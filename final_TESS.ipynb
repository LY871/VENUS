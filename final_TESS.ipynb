{
  "nbformat": 4,
  "nbformat_minor": 0,
  "metadata": {
    "colab": {
      "provenance": [],
      "include_colab_link": true
    },
    "kernelspec": {
      "name": "python3",
      "display_name": "Python 3"
    },
    "language_info": {
      "name": "python"
    }
  },
  "cells": [
    {
      "cell_type": "markdown",
      "metadata": {
        "id": "view-in-github",
        "colab_type": "text"
      },
      "source": [
        "<a href=\"https://colab.research.google.com/github/LY871/VENUS/blob/main/final_TESS.ipynb\" target=\"_parent\"><img src=\"https://colab.research.google.com/assets/colab-badge.svg\" alt=\"Open In Colab\"/></a>"
      ]
    },
    {
      "cell_type": "markdown",
      "source": [
        "# install library"
      ],
      "metadata": {
        "id": "dK_L0Tv04TcQ"
      }
    },
    {
      "cell_type": "code",
      "source": [
        "!pip install catboost"
      ],
      "metadata": {
        "colab": {
          "base_uri": "https://localhost:8080/"
        },
        "id": "X2N4Emp74QmN",
        "outputId": "1b7491e6-f697-4e02-a8cc-3b11f4ebae57"
      },
      "execution_count": 1,
      "outputs": [
        {
          "output_type": "stream",
          "name": "stdout",
          "text": [
            "Collecting catboost\n",
            "  Downloading catboost-1.2.8-cp312-cp312-manylinux2014_x86_64.whl.metadata (1.2 kB)\n",
            "Requirement already satisfied: graphviz in /usr/local/lib/python3.12/dist-packages (from catboost) (0.21)\n",
            "Requirement already satisfied: matplotlib in /usr/local/lib/python3.12/dist-packages (from catboost) (3.10.0)\n",
            "Requirement already satisfied: numpy<3.0,>=1.16.0 in /usr/local/lib/python3.12/dist-packages (from catboost) (2.0.2)\n",
            "Requirement already satisfied: pandas>=0.24 in /usr/local/lib/python3.12/dist-packages (from catboost) (2.2.2)\n",
            "Requirement already satisfied: scipy in /usr/local/lib/python3.12/dist-packages (from catboost) (1.16.2)\n",
            "Requirement already satisfied: plotly in /usr/local/lib/python3.12/dist-packages (from catboost) (5.24.1)\n",
            "Requirement already satisfied: six in /usr/local/lib/python3.12/dist-packages (from catboost) (1.17.0)\n",
            "Requirement already satisfied: python-dateutil>=2.8.2 in /usr/local/lib/python3.12/dist-packages (from pandas>=0.24->catboost) (2.9.0.post0)\n",
            "Requirement already satisfied: pytz>=2020.1 in /usr/local/lib/python3.12/dist-packages (from pandas>=0.24->catboost) (2025.2)\n",
            "Requirement already satisfied: tzdata>=2022.7 in /usr/local/lib/python3.12/dist-packages (from pandas>=0.24->catboost) (2025.2)\n",
            "Requirement already satisfied: contourpy>=1.0.1 in /usr/local/lib/python3.12/dist-packages (from matplotlib->catboost) (1.3.3)\n",
            "Requirement already satisfied: cycler>=0.10 in /usr/local/lib/python3.12/dist-packages (from matplotlib->catboost) (0.12.1)\n",
            "Requirement already satisfied: fonttools>=4.22.0 in /usr/local/lib/python3.12/dist-packages (from matplotlib->catboost) (4.60.1)\n",
            "Requirement already satisfied: kiwisolver>=1.3.1 in /usr/local/lib/python3.12/dist-packages (from matplotlib->catboost) (1.4.9)\n",
            "Requirement already satisfied: packaging>=20.0 in /usr/local/lib/python3.12/dist-packages (from matplotlib->catboost) (25.0)\n",
            "Requirement already satisfied: pillow>=8 in /usr/local/lib/python3.12/dist-packages (from matplotlib->catboost) (11.3.0)\n",
            "Requirement already satisfied: pyparsing>=2.3.1 in /usr/local/lib/python3.12/dist-packages (from matplotlib->catboost) (3.2.5)\n",
            "Requirement already satisfied: tenacity>=6.2.0 in /usr/local/lib/python3.12/dist-packages (from plotly->catboost) (8.5.0)\n",
            "Downloading catboost-1.2.8-cp312-cp312-manylinux2014_x86_64.whl (99.2 MB)\n",
            "\u001b[2K   \u001b[90m━━━━━━━━━━━━━━━━━━━━━━━━━━━━━━━━━━━━━━━━\u001b[0m \u001b[32m99.2/99.2 MB\u001b[0m \u001b[31m8.3 MB/s\u001b[0m eta \u001b[36m0:00:00\u001b[0m\n",
            "\u001b[?25hInstalling collected packages: catboost\n",
            "Successfully installed catboost-1.2.8\n"
          ]
        }
      ]
    },
    {
      "cell_type": "markdown",
      "source": [
        "#  EDA"
      ],
      "metadata": {
        "id": "0pkhiooJMEjk"
      }
    },
    {
      "cell_type": "code",
      "source": [
        "import pandas as pd\n",
        "import requests\n",
        "from io import StringIO\n",
        "\n",
        "# رابط CSV مباشر لجميع بيانات TOI\n",
        "url = \"https://exoplanetarchive.ipac.caltech.edu/cgi-bin/nstedAPI/nph-nstedAPI?table=toi&select=*&format=csv\"\n",
        "\n",
        "# جلب البيانات\n",
        "response = requests.get(url)\n",
        "data = StringIO(response.text)\n",
        "\n",
        "# تحويلها إلى DataFrame\n",
        "df = pd.read_csv(data)\n",
        "\n",
        "df.head()\n"
      ],
      "metadata": {
        "colab": {
          "base_uri": "https://localhost:8080/",
          "height": 429
        },
        "id": "TluGI3ZK-QCE",
        "outputId": "c937304b-8864-4684-a8fa-a3feed20d011"
      },
      "execution_count": 2,
      "outputs": [
        {
          "output_type": "execute_result",
          "data": {
            "text/plain": [
              "         tid         tidstr      toi  toipfx toipfxstr    ctoi_alias  \\\n",
              "0   16288184   TIC 16288184  1049.01    1049  TOI-1049  1.628818e+07   \n",
              "1  144065872  TIC 144065872   105.01     105   TOI-105  1.440659e+08   \n",
              "2   66818296   TIC 66818296  1050.01    1050  TOI-1050  6.681830e+07   \n",
              "3  259863352  TIC 259863352  1051.01    1051  TOI-1051  2.598634e+08   \n",
              "4  317060587  TIC 317060587  1052.01    1052  TOI-1052  3.170606e+08   \n",
              "\n",
              "      ctoi_aliasstr  pl_pnum tfopwg_disp  st_tmag  ...  st_raderr2  \\\n",
              "0   TIC 16288184.01        1          KP  11.0657  ...   -0.063558   \n",
              "1  TIC 144065872.01        1          KP   9.4995  ...   -0.059699   \n",
              "2   TIC 66818296.01        1          KP  11.0261  ...   -0.090000   \n",
              "3  TIC 259863352.01        1          FA   7.1278  ...   -0.186629   \n",
              "4  TIC 317060587.01        1          CP   9.0197  ...   -0.165123   \n",
              "\n",
              "   st_radsymerr  st_radlim                            st_radstr sectors  \\\n",
              "0             1          0    1.27146005630493&plusmn;0.0635578     NaN   \n",
              "1             1          0  1.2382400035858154&plusmn;0.0596985     NaN   \n",
              "2             1          0                     1.57&plusmn;0.09     NaN   \n",
              "3             1          0              1.56486&plusmn;0.186629     NaN   \n",
              "4             1          0                 1.58&plusmn;0.165123     NaN   \n",
              "\n",
              "           toi_created            rowupdate         release_date    spt_ind  \\\n",
              "0  2019-07-15 19:20:04  2022-03-30 16:02:02  2025-09-28 22:48:44  122223033   \n",
              "1  2018-09-05 18:49:20  2025-03-25 16:00:01  2025-09-28 22:48:44  133031313   \n",
              "2  2019-07-15 19:20:05  2022-10-05 10:10:01  2025-09-28 22:48:44  123320312   \n",
              "3  2019-08-16 20:20:45  2024-09-17 10:08:02  2025-09-28 22:48:44  101330020   \n",
              "4  2019-08-16 20:20:47  2023-07-24 12:03:31  2025-09-28 22:48:44  131013021   \n",
              "\n",
              "            htm20  \n",
              "0  11730628983781  \n",
              "1  12978802532301  \n",
              "2  12063953842363  \n",
              "3   9329270267834  \n",
              "4  12400237322444  \n",
              "\n",
              "[5 rows x 109 columns]"
            ],
            "text/html": [
              "\n",
              "  <div id=\"df-e5b4d4ea-a337-425f-996b-63c55ecc058f\" class=\"colab-df-container\">\n",
              "    <div>\n",
              "<style scoped>\n",
              "    .dataframe tbody tr th:only-of-type {\n",
              "        vertical-align: middle;\n",
              "    }\n",
              "\n",
              "    .dataframe tbody tr th {\n",
              "        vertical-align: top;\n",
              "    }\n",
              "\n",
              "    .dataframe thead th {\n",
              "        text-align: right;\n",
              "    }\n",
              "</style>\n",
              "<table border=\"1\" class=\"dataframe\">\n",
              "  <thead>\n",
              "    <tr style=\"text-align: right;\">\n",
              "      <th></th>\n",
              "      <th>tid</th>\n",
              "      <th>tidstr</th>\n",
              "      <th>toi</th>\n",
              "      <th>toipfx</th>\n",
              "      <th>toipfxstr</th>\n",
              "      <th>ctoi_alias</th>\n",
              "      <th>ctoi_aliasstr</th>\n",
              "      <th>pl_pnum</th>\n",
              "      <th>tfopwg_disp</th>\n",
              "      <th>st_tmag</th>\n",
              "      <th>...</th>\n",
              "      <th>st_raderr2</th>\n",
              "      <th>st_radsymerr</th>\n",
              "      <th>st_radlim</th>\n",
              "      <th>st_radstr</th>\n",
              "      <th>sectors</th>\n",
              "      <th>toi_created</th>\n",
              "      <th>rowupdate</th>\n",
              "      <th>release_date</th>\n",
              "      <th>spt_ind</th>\n",
              "      <th>htm20</th>\n",
              "    </tr>\n",
              "  </thead>\n",
              "  <tbody>\n",
              "    <tr>\n",
              "      <th>0</th>\n",
              "      <td>16288184</td>\n",
              "      <td>TIC 16288184</td>\n",
              "      <td>1049.01</td>\n",
              "      <td>1049</td>\n",
              "      <td>TOI-1049</td>\n",
              "      <td>1.628818e+07</td>\n",
              "      <td>TIC 16288184.01</td>\n",
              "      <td>1</td>\n",
              "      <td>KP</td>\n",
              "      <td>11.0657</td>\n",
              "      <td>...</td>\n",
              "      <td>-0.063558</td>\n",
              "      <td>1</td>\n",
              "      <td>0</td>\n",
              "      <td>1.27146005630493&amp;plusmn;0.0635578</td>\n",
              "      <td>NaN</td>\n",
              "      <td>2019-07-15 19:20:04</td>\n",
              "      <td>2022-03-30 16:02:02</td>\n",
              "      <td>2025-09-28 22:48:44</td>\n",
              "      <td>122223033</td>\n",
              "      <td>11730628983781</td>\n",
              "    </tr>\n",
              "    <tr>\n",
              "      <th>1</th>\n",
              "      <td>144065872</td>\n",
              "      <td>TIC 144065872</td>\n",
              "      <td>105.01</td>\n",
              "      <td>105</td>\n",
              "      <td>TOI-105</td>\n",
              "      <td>1.440659e+08</td>\n",
              "      <td>TIC 144065872.01</td>\n",
              "      <td>1</td>\n",
              "      <td>KP</td>\n",
              "      <td>9.4995</td>\n",
              "      <td>...</td>\n",
              "      <td>-0.059699</td>\n",
              "      <td>1</td>\n",
              "      <td>0</td>\n",
              "      <td>1.2382400035858154&amp;plusmn;0.0596985</td>\n",
              "      <td>NaN</td>\n",
              "      <td>2018-09-05 18:49:20</td>\n",
              "      <td>2025-03-25 16:00:01</td>\n",
              "      <td>2025-09-28 22:48:44</td>\n",
              "      <td>133031313</td>\n",
              "      <td>12978802532301</td>\n",
              "    </tr>\n",
              "    <tr>\n",
              "      <th>2</th>\n",
              "      <td>66818296</td>\n",
              "      <td>TIC 66818296</td>\n",
              "      <td>1050.01</td>\n",
              "      <td>1050</td>\n",
              "      <td>TOI-1050</td>\n",
              "      <td>6.681830e+07</td>\n",
              "      <td>TIC 66818296.01</td>\n",
              "      <td>1</td>\n",
              "      <td>KP</td>\n",
              "      <td>11.0261</td>\n",
              "      <td>...</td>\n",
              "      <td>-0.090000</td>\n",
              "      <td>1</td>\n",
              "      <td>0</td>\n",
              "      <td>1.57&amp;plusmn;0.09</td>\n",
              "      <td>NaN</td>\n",
              "      <td>2019-07-15 19:20:05</td>\n",
              "      <td>2022-10-05 10:10:01</td>\n",
              "      <td>2025-09-28 22:48:44</td>\n",
              "      <td>123320312</td>\n",
              "      <td>12063953842363</td>\n",
              "    </tr>\n",
              "    <tr>\n",
              "      <th>3</th>\n",
              "      <td>259863352</td>\n",
              "      <td>TIC 259863352</td>\n",
              "      <td>1051.01</td>\n",
              "      <td>1051</td>\n",
              "      <td>TOI-1051</td>\n",
              "      <td>2.598634e+08</td>\n",
              "      <td>TIC 259863352.01</td>\n",
              "      <td>1</td>\n",
              "      <td>FA</td>\n",
              "      <td>7.1278</td>\n",
              "      <td>...</td>\n",
              "      <td>-0.186629</td>\n",
              "      <td>1</td>\n",
              "      <td>0</td>\n",
              "      <td>1.56486&amp;plusmn;0.186629</td>\n",
              "      <td>NaN</td>\n",
              "      <td>2019-08-16 20:20:45</td>\n",
              "      <td>2024-09-17 10:08:02</td>\n",
              "      <td>2025-09-28 22:48:44</td>\n",
              "      <td>101330020</td>\n",
              "      <td>9329270267834</td>\n",
              "    </tr>\n",
              "    <tr>\n",
              "      <th>4</th>\n",
              "      <td>317060587</td>\n",
              "      <td>TIC 317060587</td>\n",
              "      <td>1052.01</td>\n",
              "      <td>1052</td>\n",
              "      <td>TOI-1052</td>\n",
              "      <td>3.170606e+08</td>\n",
              "      <td>TIC 317060587.01</td>\n",
              "      <td>1</td>\n",
              "      <td>CP</td>\n",
              "      <td>9.0197</td>\n",
              "      <td>...</td>\n",
              "      <td>-0.165123</td>\n",
              "      <td>1</td>\n",
              "      <td>0</td>\n",
              "      <td>1.58&amp;plusmn;0.165123</td>\n",
              "      <td>NaN</td>\n",
              "      <td>2019-08-16 20:20:47</td>\n",
              "      <td>2023-07-24 12:03:31</td>\n",
              "      <td>2025-09-28 22:48:44</td>\n",
              "      <td>131013021</td>\n",
              "      <td>12400237322444</td>\n",
              "    </tr>\n",
              "  </tbody>\n",
              "</table>\n",
              "<p>5 rows × 109 columns</p>\n",
              "</div>\n",
              "    <div class=\"colab-df-buttons\">\n",
              "\n",
              "  <div class=\"colab-df-container\">\n",
              "    <button class=\"colab-df-convert\" onclick=\"convertToInteractive('df-e5b4d4ea-a337-425f-996b-63c55ecc058f')\"\n",
              "            title=\"Convert this dataframe to an interactive table.\"\n",
              "            style=\"display:none;\">\n",
              "\n",
              "  <svg xmlns=\"http://www.w3.org/2000/svg\" height=\"24px\" viewBox=\"0 -960 960 960\">\n",
              "    <path d=\"M120-120v-720h720v720H120Zm60-500h600v-160H180v160Zm220 220h160v-160H400v160Zm0 220h160v-160H400v160ZM180-400h160v-160H180v160Zm440 0h160v-160H620v160ZM180-180h160v-160H180v160Zm440 0h160v-160H620v160Z\"/>\n",
              "  </svg>\n",
              "    </button>\n",
              "\n",
              "  <style>\n",
              "    .colab-df-container {\n",
              "      display:flex;\n",
              "      gap: 12px;\n",
              "    }\n",
              "\n",
              "    .colab-df-convert {\n",
              "      background-color: #E8F0FE;\n",
              "      border: none;\n",
              "      border-radius: 50%;\n",
              "      cursor: pointer;\n",
              "      display: none;\n",
              "      fill: #1967D2;\n",
              "      height: 32px;\n",
              "      padding: 0 0 0 0;\n",
              "      width: 32px;\n",
              "    }\n",
              "\n",
              "    .colab-df-convert:hover {\n",
              "      background-color: #E2EBFA;\n",
              "      box-shadow: 0px 1px 2px rgba(60, 64, 67, 0.3), 0px 1px 3px 1px rgba(60, 64, 67, 0.15);\n",
              "      fill: #174EA6;\n",
              "    }\n",
              "\n",
              "    .colab-df-buttons div {\n",
              "      margin-bottom: 4px;\n",
              "    }\n",
              "\n",
              "    [theme=dark] .colab-df-convert {\n",
              "      background-color: #3B4455;\n",
              "      fill: #D2E3FC;\n",
              "    }\n",
              "\n",
              "    [theme=dark] .colab-df-convert:hover {\n",
              "      background-color: #434B5C;\n",
              "      box-shadow: 0px 1px 3px 1px rgba(0, 0, 0, 0.15);\n",
              "      filter: drop-shadow(0px 1px 2px rgba(0, 0, 0, 0.3));\n",
              "      fill: #FFFFFF;\n",
              "    }\n",
              "  </style>\n",
              "\n",
              "    <script>\n",
              "      const buttonEl =\n",
              "        document.querySelector('#df-e5b4d4ea-a337-425f-996b-63c55ecc058f button.colab-df-convert');\n",
              "      buttonEl.style.display =\n",
              "        google.colab.kernel.accessAllowed ? 'block' : 'none';\n",
              "\n",
              "      async function convertToInteractive(key) {\n",
              "        const element = document.querySelector('#df-e5b4d4ea-a337-425f-996b-63c55ecc058f');\n",
              "        const dataTable =\n",
              "          await google.colab.kernel.invokeFunction('convertToInteractive',\n",
              "                                                    [key], {});\n",
              "        if (!dataTable) return;\n",
              "\n",
              "        const docLinkHtml = 'Like what you see? Visit the ' +\n",
              "          '<a target=\"_blank\" href=https://colab.research.google.com/notebooks/data_table.ipynb>data table notebook</a>'\n",
              "          + ' to learn more about interactive tables.';\n",
              "        element.innerHTML = '';\n",
              "        dataTable['output_type'] = 'display_data';\n",
              "        await google.colab.output.renderOutput(dataTable, element);\n",
              "        const docLink = document.createElement('div');\n",
              "        docLink.innerHTML = docLinkHtml;\n",
              "        element.appendChild(docLink);\n",
              "      }\n",
              "    </script>\n",
              "  </div>\n",
              "\n",
              "\n",
              "    <div id=\"df-af5afbc6-e933-4bc6-8289-1038f205d101\">\n",
              "      <button class=\"colab-df-quickchart\" onclick=\"quickchart('df-af5afbc6-e933-4bc6-8289-1038f205d101')\"\n",
              "                title=\"Suggest charts\"\n",
              "                style=\"display:none;\">\n",
              "\n",
              "<svg xmlns=\"http://www.w3.org/2000/svg\" height=\"24px\"viewBox=\"0 0 24 24\"\n",
              "     width=\"24px\">\n",
              "    <g>\n",
              "        <path d=\"M19 3H5c-1.1 0-2 .9-2 2v14c0 1.1.9 2 2 2h14c1.1 0 2-.9 2-2V5c0-1.1-.9-2-2-2zM9 17H7v-7h2v7zm4 0h-2V7h2v10zm4 0h-2v-4h2v4z\"/>\n",
              "    </g>\n",
              "</svg>\n",
              "      </button>\n",
              "\n",
              "<style>\n",
              "  .colab-df-quickchart {\n",
              "      --bg-color: #E8F0FE;\n",
              "      --fill-color: #1967D2;\n",
              "      --hover-bg-color: #E2EBFA;\n",
              "      --hover-fill-color: #174EA6;\n",
              "      --disabled-fill-color: #AAA;\n",
              "      --disabled-bg-color: #DDD;\n",
              "  }\n",
              "\n",
              "  [theme=dark] .colab-df-quickchart {\n",
              "      --bg-color: #3B4455;\n",
              "      --fill-color: #D2E3FC;\n",
              "      --hover-bg-color: #434B5C;\n",
              "      --hover-fill-color: #FFFFFF;\n",
              "      --disabled-bg-color: #3B4455;\n",
              "      --disabled-fill-color: #666;\n",
              "  }\n",
              "\n",
              "  .colab-df-quickchart {\n",
              "    background-color: var(--bg-color);\n",
              "    border: none;\n",
              "    border-radius: 50%;\n",
              "    cursor: pointer;\n",
              "    display: none;\n",
              "    fill: var(--fill-color);\n",
              "    height: 32px;\n",
              "    padding: 0;\n",
              "    width: 32px;\n",
              "  }\n",
              "\n",
              "  .colab-df-quickchart:hover {\n",
              "    background-color: var(--hover-bg-color);\n",
              "    box-shadow: 0 1px 2px rgba(60, 64, 67, 0.3), 0 1px 3px 1px rgba(60, 64, 67, 0.15);\n",
              "    fill: var(--button-hover-fill-color);\n",
              "  }\n",
              "\n",
              "  .colab-df-quickchart-complete:disabled,\n",
              "  .colab-df-quickchart-complete:disabled:hover {\n",
              "    background-color: var(--disabled-bg-color);\n",
              "    fill: var(--disabled-fill-color);\n",
              "    box-shadow: none;\n",
              "  }\n",
              "\n",
              "  .colab-df-spinner {\n",
              "    border: 2px solid var(--fill-color);\n",
              "    border-color: transparent;\n",
              "    border-bottom-color: var(--fill-color);\n",
              "    animation:\n",
              "      spin 1s steps(1) infinite;\n",
              "  }\n",
              "\n",
              "  @keyframes spin {\n",
              "    0% {\n",
              "      border-color: transparent;\n",
              "      border-bottom-color: var(--fill-color);\n",
              "      border-left-color: var(--fill-color);\n",
              "    }\n",
              "    20% {\n",
              "      border-color: transparent;\n",
              "      border-left-color: var(--fill-color);\n",
              "      border-top-color: var(--fill-color);\n",
              "    }\n",
              "    30% {\n",
              "      border-color: transparent;\n",
              "      border-left-color: var(--fill-color);\n",
              "      border-top-color: var(--fill-color);\n",
              "      border-right-color: var(--fill-color);\n",
              "    }\n",
              "    40% {\n",
              "      border-color: transparent;\n",
              "      border-right-color: var(--fill-color);\n",
              "      border-top-color: var(--fill-color);\n",
              "    }\n",
              "    60% {\n",
              "      border-color: transparent;\n",
              "      border-right-color: var(--fill-color);\n",
              "    }\n",
              "    80% {\n",
              "      border-color: transparent;\n",
              "      border-right-color: var(--fill-color);\n",
              "      border-bottom-color: var(--fill-color);\n",
              "    }\n",
              "    90% {\n",
              "      border-color: transparent;\n",
              "      border-bottom-color: var(--fill-color);\n",
              "    }\n",
              "  }\n",
              "</style>\n",
              "\n",
              "      <script>\n",
              "        async function quickchart(key) {\n",
              "          const quickchartButtonEl =\n",
              "            document.querySelector('#' + key + ' button');\n",
              "          quickchartButtonEl.disabled = true;  // To prevent multiple clicks.\n",
              "          quickchartButtonEl.classList.add('colab-df-spinner');\n",
              "          try {\n",
              "            const charts = await google.colab.kernel.invokeFunction(\n",
              "                'suggestCharts', [key], {});\n",
              "          } catch (error) {\n",
              "            console.error('Error during call to suggestCharts:', error);\n",
              "          }\n",
              "          quickchartButtonEl.classList.remove('colab-df-spinner');\n",
              "          quickchartButtonEl.classList.add('colab-df-quickchart-complete');\n",
              "        }\n",
              "        (() => {\n",
              "          let quickchartButtonEl =\n",
              "            document.querySelector('#df-af5afbc6-e933-4bc6-8289-1038f205d101 button');\n",
              "          quickchartButtonEl.style.display =\n",
              "            google.colab.kernel.accessAllowed ? 'block' : 'none';\n",
              "        })();\n",
              "      </script>\n",
              "    </div>\n",
              "\n",
              "    </div>\n",
              "  </div>\n"
            ],
            "application/vnd.google.colaboratory.intrinsic+json": {
              "type": "dataframe",
              "variable_name": "df"
            }
          },
          "metadata": {},
          "execution_count": 2
        }
      ]
    },
    {
      "cell_type": "code",
      "source": [
        "print(df.columns.tolist())"
      ],
      "metadata": {
        "colab": {
          "base_uri": "https://localhost:8080/"
        },
        "id": "XU7ccNNEBxzy",
        "outputId": "d78eb718-e766-4e3d-eaf7-8d5e947e5ec2"
      },
      "execution_count": 3,
      "outputs": [
        {
          "output_type": "stream",
          "name": "stdout",
          "text": [
            "['tid', 'tidstr', 'toi', 'toipfx', 'toipfxstr', 'ctoi_alias', 'ctoi_aliasstr', 'pl_pnum', 'tfopwg_disp', 'st_tmag', 'st_tmagerr1', 'st_tmagerr2', 'st_tmagsymerr', 'st_tmaglim', 'st_tmagstr', 'ra', 'raerr1', 'raerr2', 'rasymerr', 'rastr', 'dec', 'decerr1', 'decerr2', 'decsymerr', 'decstr', 'st_pmra', 'st_pmraerr1', 'st_pmraerr2', 'st_pmrasymerr', 'st_pmralim', 'st_pmrastr', 'st_pmdec', 'st_pmdecerr1', 'st_pmdecerr2', 'st_pmdecsymerr', 'st_pmdeclim', 'st_pmdecstr', 'pl_tranmid', 'pl_tranmiderr1', 'pl_tranmiderr2', 'pl_tranmidsymerr', 'pl_tranmidlim', 'pl_tranmidstr', 'pl_orbper', 'pl_orbpererr1', 'pl_orbpererr2', 'pl_orbpersymerr', 'pl_orbperlim', 'pl_orbperstr', 'pl_trandurh', 'pl_trandurherr1', 'pl_trandurherr2', 'pl_trandurhsymerr', 'pl_trandurhlim', 'pl_trandurhstr', 'pl_trandep', 'pl_trandeperr1', 'pl_trandeperr2', 'pl_trandepsymerr', 'pl_trandeplim', 'pl_trandepstr', 'pl_rade', 'pl_radeerr1', 'pl_radeerr2', 'pl_radesymerr', 'pl_radelim', 'pl_radestr', 'pl_insol', 'pl_insolerr1', 'pl_insolerr2', 'pl_insolsymerr', 'pl_insollim', 'pl_insolstr', 'pl_eqt', 'pl_eqterr1', 'pl_eqterr2', 'pl_eqtsymerr', 'pl_eqtlim', 'pl_eqtstr', 'st_dist', 'st_disterr1', 'st_disterr2', 'st_distsymerr', 'st_distlim', 'st_diststr', 'st_teff', 'st_tefferr1', 'st_tefferr2', 'st_teffsymerr', 'st_tefflim', 'st_teffstr', 'st_logg', 'st_loggerr1', 'st_loggerr2', 'st_loggsymerr', 'st_logglim', 'st_loggstr', 'st_rad', 'st_raderr1', 'st_raderr2', 'st_radsymerr', 'st_radlim', 'st_radstr', 'sectors', 'toi_created', 'rowupdate', 'release_date', 'spt_ind', 'htm20']\n"
          ]
        }
      ]
    },
    {
      "cell_type": "code",
      "source": [
        "df.shape"
      ],
      "metadata": {
        "colab": {
          "base_uri": "https://localhost:8080/"
        },
        "id": "fCK_V__Y9C5-",
        "outputId": "db52d117-efc9-440a-ecc1-6f06c80293f9"
      },
      "execution_count": 4,
      "outputs": [
        {
          "output_type": "execute_result",
          "data": {
            "text/plain": [
              "(7703, 109)"
            ]
          },
          "metadata": {},
          "execution_count": 4
        }
      ]
    },
    {
      "cell_type": "code",
      "source": [
        "## tfopwg_disp ---> target"
      ],
      "metadata": {
        "id": "Xu_7R4f9BlIX"
      },
      "execution_count": 5,
      "outputs": []
    },
    {
      "cell_type": "markdown",
      "source": [
        "# preprosesing"
      ],
      "metadata": {
        "id": "yl4XlZ9jBZrB"
      }
    },
    {
      "cell_type": "markdown",
      "source": [
        "## handel miss value"
      ],
      "metadata": {
        "id": "NeS4mLQ2GLo2"
      }
    },
    {
      "cell_type": "markdown",
      "source": [
        "### delet unusefl table"
      ],
      "metadata": {
        "id": "Bs6nQrWOBc3h"
      }
    },
    {
      "cell_type": "code",
      "source": [
        "unimportant_features = [\n",
        "    # Identifiers\n",
        "    'toi',\n",
        "    'toipfx',\n",
        "    'tid',\n",
        "    'ctoi_alias',\n",
        "\n",
        "    # Sexagesimal / display columns\n",
        "    'rastr',\n",
        "    'decstr',\n",
        "    'st_pmrastr',\n",
        "    'st_pmdecstr',\n",
        "    \"spt_ind\",\n",
        "    \"htm20\"\n",
        "\n",
        "]\n"
      ],
      "metadata": {
        "id": "XsoSBgof-bGq"
      },
      "execution_count": 6,
      "outputs": []
    },
    {
      "cell_type": "code",
      "source": [
        "df.drop(columns=unimportant_features, inplace=True)"
      ],
      "metadata": {
        "id": "-VaDpEre9RRK"
      },
      "execution_count": 7,
      "outputs": []
    },
    {
      "cell_type": "code",
      "source": [
        "df.info()"
      ],
      "metadata": {
        "colab": {
          "base_uri": "https://localhost:8080/"
        },
        "id": "SLry_Jxz9Vbh",
        "outputId": "6bdae542-2bfb-4506-9e36-cd73da0176ac"
      },
      "execution_count": 8,
      "outputs": [
        {
          "output_type": "stream",
          "name": "stdout",
          "text": [
            "<class 'pandas.core.frame.DataFrame'>\n",
            "RangeIndex: 7703 entries, 0 to 7702\n",
            "Data columns (total 99 columns):\n",
            " #   Column             Non-Null Count  Dtype  \n",
            "---  ------             --------------  -----  \n",
            " 0   tidstr             7703 non-null   object \n",
            " 1   toipfxstr          7703 non-null   object \n",
            " 2   ctoi_aliasstr      7703 non-null   object \n",
            " 3   pl_pnum            7703 non-null   int64  \n",
            " 4   tfopwg_disp        7703 non-null   object \n",
            " 5   st_tmag            7703 non-null   float64\n",
            " 6   st_tmagerr1        7703 non-null   float64\n",
            " 7   st_tmagerr2        7703 non-null   float64\n",
            " 8   st_tmagsymerr      7703 non-null   int64  \n",
            " 9   st_tmaglim         7703 non-null   int64  \n",
            " 10  st_tmagstr         7703 non-null   object \n",
            " 11  ra                 7703 non-null   float64\n",
            " 12  raerr1             0 non-null      float64\n",
            " 13  raerr2             0 non-null      float64\n",
            " 14  rasymerr           0 non-null      float64\n",
            " 15  dec                7703 non-null   float64\n",
            " 16  decerr1            0 non-null      float64\n",
            " 17  decerr2            0 non-null      float64\n",
            " 18  decsymerr          0 non-null      float64\n",
            " 19  st_pmra            7569 non-null   float64\n",
            " 20  st_pmraerr1        7569 non-null   float64\n",
            " 21  st_pmraerr2        7569 non-null   float64\n",
            " 22  st_pmrasymerr      7569 non-null   float64\n",
            " 23  st_pmralim         7569 non-null   float64\n",
            " 24  st_pmdec           7569 non-null   float64\n",
            " 25  st_pmdecerr1       7569 non-null   float64\n",
            " 26  st_pmdecerr2       7569 non-null   float64\n",
            " 27  st_pmdecsymerr     7569 non-null   float64\n",
            " 28  st_pmdeclim        7569 non-null   float64\n",
            " 29  pl_tranmid         7703 non-null   float64\n",
            " 30  pl_tranmiderr1     7692 non-null   float64\n",
            " 31  pl_tranmiderr2     7692 non-null   float64\n",
            " 32  pl_tranmidsymerr   7703 non-null   int64  \n",
            " 33  pl_tranmidlim      7703 non-null   int64  \n",
            " 34  pl_tranmidstr      7703 non-null   object \n",
            " 35  pl_orbper          7596 non-null   float64\n",
            " 36  pl_orbpererr1      7572 non-null   float64\n",
            " 37  pl_orbpererr2      7572 non-null   float64\n",
            " 38  pl_orbpersymerr    7703 non-null   int64  \n",
            " 39  pl_orbperlim       7703 non-null   int64  \n",
            " 40  pl_orbperstr       7596 non-null   object \n",
            " 41  pl_trandurh        7703 non-null   float64\n",
            " 42  pl_trandurherr1    7690 non-null   float64\n",
            " 43  pl_trandurherr2    7690 non-null   float64\n",
            " 44  pl_trandurhsymerr  7703 non-null   int64  \n",
            " 45  pl_trandurhlim     7703 non-null   int64  \n",
            " 46  pl_trandurhstr     7703 non-null   object \n",
            " 47  pl_trandep         7703 non-null   float64\n",
            " 48  pl_trandeperr1     7697 non-null   float64\n",
            " 49  pl_trandeperr2     7697 non-null   float64\n",
            " 50  pl_trandepsymerr   7703 non-null   int64  \n",
            " 51  pl_trandeplim      7703 non-null   int64  \n",
            " 52  pl_trandepstr      7703 non-null   object \n",
            " 53  pl_rade            7197 non-null   float64\n",
            " 54  pl_radeerr1        6080 non-null   float64\n",
            " 55  pl_radeerr2        6080 non-null   float64\n",
            " 56  pl_radesymerr      7703 non-null   int64  \n",
            " 57  pl_radelim         7703 non-null   int64  \n",
            " 58  pl_radestr         7197 non-null   object \n",
            " 59  pl_insol           7527 non-null   float64\n",
            " 60  pl_insolerr1       0 non-null      float64\n",
            " 61  pl_insolerr2       0 non-null      float64\n",
            " 62  pl_insolsymerr     0 non-null      float64\n",
            " 63  pl_insollim        0 non-null      float64\n",
            " 64  pl_insolstr        7527 non-null   float64\n",
            " 65  pl_eqt             7392 non-null   float64\n",
            " 66  pl_eqterr1         0 non-null      float64\n",
            " 67  pl_eqterr2         0 non-null      float64\n",
            " 68  pl_eqtsymerr       0 non-null      float64\n",
            " 69  pl_eqtlim          0 non-null      float64\n",
            " 70  pl_eqtstr          7392 non-null   float64\n",
            " 71  st_dist            7488 non-null   float64\n",
            " 72  st_disterr1        6996 non-null   float64\n",
            " 73  st_disterr2        6996 non-null   float64\n",
            " 74  st_distsymerr      7703 non-null   int64  \n",
            " 75  st_distlim         7703 non-null   int64  \n",
            " 76  st_diststr         7488 non-null   object \n",
            " 77  st_teff            7542 non-null   float64\n",
            " 78  st_tefferr1        7229 non-null   float64\n",
            " 79  st_tefferr2        7229 non-null   float64\n",
            " 80  st_teffsymerr      7703 non-null   int64  \n",
            " 81  st_tefflim         7703 non-null   int64  \n",
            " 82  st_teffstr         7542 non-null   object \n",
            " 83  st_logg            6847 non-null   float64\n",
            " 84  st_loggerr1        5432 non-null   float64\n",
            " 85  st_loggerr2        5432 non-null   float64\n",
            " 86  st_loggsymerr      7703 non-null   int64  \n",
            " 87  st_logglim         7703 non-null   int64  \n",
            " 88  st_loggstr         6847 non-null   object \n",
            " 89  st_rad             7196 non-null   float64\n",
            " 90  st_raderr1         5740 non-null   float64\n",
            " 91  st_raderr2         5740 non-null   float64\n",
            " 92  st_radsymerr       7703 non-null   int64  \n",
            " 93  st_radlim          7703 non-null   int64  \n",
            " 94  st_radstr          7196 non-null   object \n",
            " 95  sectors            0 non-null      float64\n",
            " 96  toi_created        7703 non-null   object \n",
            " 97  rowupdate          7703 non-null   object \n",
            " 98  release_date       7703 non-null   object \n",
            "dtypes: float64(61), int64(21), object(17)\n",
            "memory usage: 5.8+ MB\n"
          ]
        }
      ]
    },
    {
      "cell_type": "markdown",
      "source": [
        "### delet data with one value"
      ],
      "metadata": {
        "id": "OWMkO8pMDqC0"
      }
    },
    {
      "cell_type": "code",
      "metadata": {
        "colab": {
          "base_uri": "https://localhost:8080/"
        },
        "id": "71edf2c4",
        "outputId": "14015b91-6b07-43ab-f667-b956ad8e3d70"
      },
      "source": [
        "#\n",
        "for col in df.columns:\n",
        "    unique_values = df[col].unique()\n",
        "    if len(unique_values) <= 2:\n",
        "        print(f\"Column: {col}, Unique Values: {unique_values}\")\n",
        "        df.drop(columns=[col], inplace=True)"
      ],
      "execution_count": 9,
      "outputs": [
        {
          "output_type": "stream",
          "name": "stdout",
          "text": [
            "Column: st_tmagsymerr, Unique Values: [1]\n",
            "Column: st_tmaglim, Unique Values: [0]\n",
            "Column: raerr1, Unique Values: [nan]\n",
            "Column: raerr2, Unique Values: [nan]\n",
            "Column: rasymerr, Unique Values: [nan]\n",
            "Column: decerr1, Unique Values: [nan]\n",
            "Column: decerr2, Unique Values: [nan]\n",
            "Column: decsymerr, Unique Values: [nan]\n",
            "Column: st_pmrasymerr, Unique Values: [ 1. nan]\n",
            "Column: st_pmralim, Unique Values: [ 0. nan]\n",
            "Column: st_pmdecsymerr, Unique Values: [ 1. nan]\n",
            "Column: st_pmdeclim, Unique Values: [ 0. nan]\n",
            "Column: pl_tranmidsymerr, Unique Values: [1]\n",
            "Column: pl_tranmidlim, Unique Values: [0]\n",
            "Column: pl_orbpersymerr, Unique Values: [1]\n",
            "Column: pl_orbperlim, Unique Values: [0]\n",
            "Column: pl_trandurhsymerr, Unique Values: [1]\n",
            "Column: pl_trandurhlim, Unique Values: [0]\n",
            "Column: pl_trandepsymerr, Unique Values: [1]\n",
            "Column: pl_trandeplim, Unique Values: [0]\n",
            "Column: pl_radesymerr, Unique Values: [1]\n",
            "Column: pl_radelim, Unique Values: [0]\n",
            "Column: pl_insolerr1, Unique Values: [nan]\n",
            "Column: pl_insolerr2, Unique Values: [nan]\n",
            "Column: pl_insolsymerr, Unique Values: [nan]\n",
            "Column: pl_insollim, Unique Values: [nan]\n",
            "Column: pl_eqterr1, Unique Values: [nan]\n",
            "Column: pl_eqterr2, Unique Values: [nan]\n",
            "Column: pl_eqtsymerr, Unique Values: [nan]\n",
            "Column: pl_eqtlim, Unique Values: [nan]\n",
            "Column: st_distsymerr, Unique Values: [1]\n",
            "Column: st_distlim, Unique Values: [0]\n",
            "Column: st_teffsymerr, Unique Values: [1]\n",
            "Column: st_tefflim, Unique Values: [0]\n",
            "Column: st_loggsymerr, Unique Values: [1]\n",
            "Column: st_logglim, Unique Values: [0]\n",
            "Column: st_radsymerr, Unique Values: [1]\n",
            "Column: st_radlim, Unique Values: [0]\n",
            "Column: sectors, Unique Values: [nan]\n",
            "Column: release_date, Unique Values: ['2025-09-28 22:48:44']\n"
          ]
        }
      ]
    },
    {
      "cell_type": "code",
      "metadata": {
        "colab": {
          "base_uri": "https://localhost:8080/"
        },
        "id": "49f33e54",
        "outputId": "9a135b5a-e4da-41e2-f7b7-690f6ff7f3d4"
      },
      "source": [
        "nan_counts = df.isnull().sum()\n",
        "\n",
        "for name, count in nan_counts.items():\n",
        "    if count > 0:\n",
        "        print(name, \"\\t\", count)\n"
      ],
      "execution_count": 10,
      "outputs": [
        {
          "output_type": "stream",
          "name": "stdout",
          "text": [
            "st_pmra \t 134\n",
            "st_pmraerr1 \t 134\n",
            "st_pmraerr2 \t 134\n",
            "st_pmdec \t 134\n",
            "st_pmdecerr1 \t 134\n",
            "st_pmdecerr2 \t 134\n",
            "pl_tranmiderr1 \t 11\n",
            "pl_tranmiderr2 \t 11\n",
            "pl_orbper \t 107\n",
            "pl_orbpererr1 \t 131\n",
            "pl_orbpererr2 \t 131\n",
            "pl_orbperstr \t 107\n",
            "pl_trandurherr1 \t 13\n",
            "pl_trandurherr2 \t 13\n",
            "pl_trandeperr1 \t 6\n",
            "pl_trandeperr2 \t 6\n",
            "pl_rade \t 506\n",
            "pl_radeerr1 \t 1623\n",
            "pl_radeerr2 \t 1623\n",
            "pl_radestr \t 506\n",
            "pl_insol \t 176\n",
            "pl_insolstr \t 176\n",
            "pl_eqt \t 311\n",
            "pl_eqtstr \t 311\n",
            "st_dist \t 215\n",
            "st_disterr1 \t 707\n",
            "st_disterr2 \t 707\n",
            "st_diststr \t 215\n",
            "st_teff \t 161\n",
            "st_tefferr1 \t 474\n",
            "st_tefferr2 \t 474\n",
            "st_teffstr \t 161\n",
            "st_logg \t 856\n",
            "st_loggerr1 \t 2271\n",
            "st_loggerr2 \t 2271\n",
            "st_loggstr \t 856\n",
            "st_rad \t 507\n",
            "st_raderr1 \t 1963\n",
            "st_raderr2 \t 1963\n",
            "st_radstr \t 507\n"
          ]
        }
      ]
    },
    {
      "cell_type": "markdown",
      "source": [
        "### delet row have may NAN value"
      ],
      "metadata": {
        "id": "jWEj7C7WE_ED"
      }
    },
    {
      "cell_type": "code",
      "metadata": {
        "id": "4af4d35a"
      },
      "source": [
        "df.dropna(subset=['st_pmra'], inplace=True)"
      ],
      "execution_count": 11,
      "outputs": []
    },
    {
      "cell_type": "markdown",
      "source": [
        "### delet colum with 30% nan value"
      ],
      "metadata": {
        "id": "Xv1iEbyxFSs-"
      }
    },
    {
      "cell_type": "code",
      "source": [
        "\n",
        "for name, count in nan_counts.items():\n",
        "    if count > 3300:\n",
        "        print(name, \"\\t\", count)\n",
        "        df.drop(columns=[name], inplace=True)\n"
      ],
      "metadata": {
        "id": "fm1Wnydm9vPh"
      },
      "execution_count": 12,
      "outputs": []
    },
    {
      "cell_type": "markdown",
      "source": [
        "## Perprocess text data"
      ],
      "metadata": {
        "id": "RIKI7R1BHWMP"
      }
    },
    {
      "cell_type": "markdown",
      "source": [
        "### fill NAN value"
      ],
      "metadata": {
        "id": "yPWa24Y6HaU4"
      }
    },
    {
      "cell_type": "code",
      "source": [],
      "metadata": {
        "id": "LT3HTNVymRv9"
      },
      "execution_count": 12,
      "outputs": []
    },
    {
      "cell_type": "code",
      "metadata": {
        "colab": {
          "base_uri": "https://localhost:8080/"
        },
        "id": "40a080da",
        "outputId": "7edfdd4b-d76d-40b4-8f3f-525da88ac2d7"
      },
      "source": [
        "for col in df.columns:\n",
        "    if df[col].dtype == 'object':\n",
        "        print(f\"Column '{col}' has {df[col].size} string values.\")"
      ],
      "execution_count": 13,
      "outputs": [
        {
          "output_type": "stream",
          "name": "stdout",
          "text": [
            "Column 'tidstr' has 7569 string values.\n",
            "Column 'toipfxstr' has 7569 string values.\n",
            "Column 'ctoi_aliasstr' has 7569 string values.\n",
            "Column 'tfopwg_disp' has 7569 string values.\n",
            "Column 'st_tmagstr' has 7569 string values.\n",
            "Column 'pl_tranmidstr' has 7569 string values.\n",
            "Column 'pl_orbperstr' has 7569 string values.\n",
            "Column 'pl_trandurhstr' has 7569 string values.\n",
            "Column 'pl_trandepstr' has 7569 string values.\n",
            "Column 'pl_radestr' has 7569 string values.\n",
            "Column 'st_diststr' has 7569 string values.\n",
            "Column 'st_teffstr' has 7569 string values.\n",
            "Column 'st_loggstr' has 7569 string values.\n",
            "Column 'st_radstr' has 7569 string values.\n",
            "Column 'toi_created' has 7569 string values.\n",
            "Column 'rowupdate' has 7569 string values.\n"
          ]
        }
      ]
    },
    {
      "cell_type": "code",
      "source": [
        "# الهم بديل رقمي\n",
        "cols_to_drop = [\n",
        "    'tidstr',\n",
        "    'toipfxstr',\n",
        "    'ctoi_aliasstr',\n",
        "    'st_tmagstr',\n",
        "    'pl_tranmidstr',\n",
        "    'pl_orbperstr',\n",
        "    'pl_trandurhstr',\n",
        "    'pl_trandepstr',\n",
        "    'st_diststr',\n",
        "    'st_teffstr',\n",
        "    'pl_radestr',\n",
        "    'st_radstr',\n",
        "    # غير مهم\n",
        "    \"toi_created\",\n",
        "    \"rowupdate\",\n",
        "    'st_loggstr'\n",
        "]\n",
        "\n",
        "for col in df.columns.tolist():\n",
        "  if col in cols_to_drop:\n",
        "\n",
        "\n",
        "    df.drop(columns=col, inplace=True)"
      ],
      "metadata": {
        "id": "sS2Xi5BACJJ-"
      },
      "execution_count": 14,
      "outputs": []
    },
    {
      "cell_type": "code",
      "source": [
        "nan_counts = df.isnull().sum()\n",
        "\n",
        "for name, count in nan_counts.items():\n",
        "    if count > 0:\n",
        "        print(name, \"\\t\", count)\n"
      ],
      "metadata": {
        "colab": {
          "base_uri": "https://localhost:8080/"
        },
        "id": "MtmwafpnH7VZ",
        "outputId": "1bfae565-dc85-4226-d637-92a6e2e6bd94"
      },
      "execution_count": 15,
      "outputs": [
        {
          "output_type": "stream",
          "name": "stdout",
          "text": [
            "pl_tranmiderr1 \t 11\n",
            "pl_tranmiderr2 \t 11\n",
            "pl_orbper \t 107\n",
            "pl_orbpererr1 \t 131\n",
            "pl_orbpererr2 \t 131\n",
            "pl_trandurherr1 \t 13\n",
            "pl_trandurherr2 \t 13\n",
            "pl_trandeperr1 \t 6\n",
            "pl_trandeperr2 \t 6\n",
            "pl_rade \t 415\n",
            "pl_radeerr1 \t 1525\n",
            "pl_radeerr2 \t 1525\n",
            "pl_insol \t 139\n",
            "pl_insolstr \t 139\n",
            "pl_eqt \t 268\n",
            "pl_eqtstr \t 268\n",
            "st_dist \t 150\n",
            "st_disterr1 \t 573\n",
            "st_disterr2 \t 573\n",
            "st_teff \t 117\n",
            "st_tefferr1 \t 420\n",
            "st_tefferr2 \t 420\n",
            "st_logg \t 736\n",
            "st_loggerr1 \t 2144\n",
            "st_loggerr2 \t 2144\n",
            "st_rad \t 416\n",
            "st_raderr1 \t 1862\n",
            "st_raderr2 \t 1862\n"
          ]
        }
      ]
    },
    {
      "cell_type": "code",
      "source": [
        "df.shape"
      ],
      "metadata": {
        "colab": {
          "base_uri": "https://localhost:8080/"
        },
        "id": "xhH6dTcQLKXy",
        "outputId": "63aa54fc-f662-4d85-f987-8335c062148d"
      },
      "execution_count": 16,
      "outputs": [
        {
          "output_type": "execute_result",
          "data": {
            "text/plain": [
              "(7569, 44)"
            ]
          },
          "metadata": {},
          "execution_count": 16
        }
      ]
    },
    {
      "cell_type": "markdown",
      "source": [
        "## fill nan vlue"
      ],
      "metadata": {
        "id": "ELd2Bk9OyppZ"
      }
    },
    {
      "cell_type": "markdown",
      "source": [
        "### fill nan value"
      ],
      "metadata": {
        "id": "JUcAABLMjyJE"
      }
    },
    {
      "cell_type": "code",
      "source": [
        "from sklearn.model_selection import train_test_split\n",
        "from sklearn.preprocessing import RobustScaler\n",
        "#encoder = LabelEncoder()\n",
        "y_encoded = df[\"tfopwg_disp\"]  # fit هنا\n",
        "\n",
        "X = df.drop(\"tfopwg_disp\", axis=1)\n",
        "X_train, X_test, y_train, y_test = train_test_split(X, y_encoded, test_size=0.2, random_state=42)\n",
        "\n",
        "scaler = RobustScaler()\n",
        "X_train = scaler.fit_transform(X_train)\n",
        "X_test  = scaler.transform(X_test)"
      ],
      "metadata": {
        "id": "gD_sQlnqW070"
      },
      "execution_count": 17,
      "outputs": []
    },
    {
      "cell_type": "code",
      "source": [
        "import pandas as pd\n",
        "from sklearn.impute import KNNImputer\n",
        "\n",
        "# الأعمدة التي نريد ملؤها باستخدام KNN\n",
        "cols_to_impute = [\n",
        "    'pl_tranmiderr1','pl_tranmiderr2','pl_trandurherr1','pl_trandurherr2',\n",
        "    'pl_trandeperr1','pl_trandeperr2','pl_orbper','pl_orbpererr1','pl_orbpererr2',\n",
        "    'pl_rade',\n",
        "    'pl_insol','pl_eqt','st_dist','st_teff','st_rad',\"st_logg\"\n",
        "]\n",
        "\n",
        "# انسخ DataFrame الأصلي لتعديل النسخة فقط\n",
        "\n",
        "\n",
        "# KNN imputer\n",
        "imputer = KNNImputer(n_neighbors=5, weights='distance')\n",
        "\n",
        "# طبق الملء على الأعمدة المحددة\n",
        "df[cols_to_impute] = imputer.fit_transform(df[cols_to_impute])\n",
        "\n",
        "# حذف الأعمدة ذات النسبة العالية من القيم المفقودة (>25%) لأنها غير مستقرة للملء\n",
        "high_nan_cols = [\n",
        "    'st_loggerr1','st_loggerr2',\n",
        "    'st_raderr1','st_raderr2','st_loggstr', 'pl_insolstr', 'pl_eqtstr',    # نسخ نصية للقيم العددية\n",
        "    'st_disterr1', 'st_disterr2',  # أخطاء/عدم يقين للمسافة\n",
        "    'st_tefferr1', 'st_tefferr2'   # أخطاء/عدم يقين لدرجة حرارة النجم\n",
        "\n",
        "]\n",
        "df.drop(columns=high_nan_cols, inplace=True, errors='ignore')\n",
        "\n",
        "# حذف الأعمدة النصية التي لا تفيد في ML\n",
        "\n",
        "# تحقق من القيم المفقودة بعد التنظيف\n",
        "print(df.isnull().sum())\n"
      ],
      "metadata": {
        "colab": {
          "base_uri": "https://localhost:8080/"
        },
        "id": "Bqped9dwHZ-C",
        "outputId": "d3130e48-93cd-4519-9259-a91b7379813f"
      },
      "execution_count": 18,
      "outputs": [
        {
          "output_type": "stream",
          "name": "stdout",
          "text": [
            "pl_pnum               0\n",
            "tfopwg_disp           0\n",
            "st_tmag               0\n",
            "st_tmagerr1           0\n",
            "st_tmagerr2           0\n",
            "ra                    0\n",
            "dec                   0\n",
            "st_pmra               0\n",
            "st_pmraerr1           0\n",
            "st_pmraerr2           0\n",
            "st_pmdec              0\n",
            "st_pmdecerr1          0\n",
            "st_pmdecerr2          0\n",
            "pl_tranmid            0\n",
            "pl_tranmiderr1        0\n",
            "pl_tranmiderr2        0\n",
            "pl_orbper             0\n",
            "pl_orbpererr1         0\n",
            "pl_orbpererr2         0\n",
            "pl_trandurh           0\n",
            "pl_trandurherr1       0\n",
            "pl_trandurherr2       0\n",
            "pl_trandep            0\n",
            "pl_trandeperr1        0\n",
            "pl_trandeperr2        0\n",
            "pl_rade               0\n",
            "pl_radeerr1        1525\n",
            "pl_radeerr2        1525\n",
            "pl_insol              0\n",
            "pl_eqt                0\n",
            "st_dist               0\n",
            "st_teff               0\n",
            "st_logg               0\n",
            "st_rad                0\n",
            "dtype: int64\n"
          ]
        }
      ]
    },
    {
      "cell_type": "code",
      "source": [
        "df.drop(columns=['pl_radeerr1','pl_radeerr2']  ,inplace=True)"
      ],
      "metadata": {
        "id": "w6OdVc_azOCb"
      },
      "execution_count": 19,
      "outputs": []
    },
    {
      "cell_type": "markdown",
      "source": [
        "## extract feature"
      ],
      "metadata": {
        "id": "xjEPQmqWwUo1"
      }
    },
    {
      "cell_type": "code",
      "source": [
        "import matplotlib.pyplot as plt\n",
        "import seaborn as sns\n",
        "\n",
        "# عدد كل قيمة فريدة\n",
        "counts = df['tfopwg_disp'].value_counts()\n",
        "print(counts)\n",
        "\n",
        "# رسم بار للقيم الفريدة\n",
        "plt.figure(figsize=(10, 6))\n",
        "sns.barplot(x=counts.index, y=counts.values)\n",
        "plt.title('Distribution of tfopwg_disp (unique values)')\n",
        "plt.xlabel('tfopwg_disp')\n",
        "plt.ylabel('Count')\n",
        "plt.xticks(rotation=45)\n",
        "plt.show()\n"
      ],
      "metadata": {
        "colab": {
          "base_uri": "https://localhost:8080/",
          "height": 719
        },
        "id": "5ddLz_8Dcgau",
        "outputId": "c7a9f6a9-d992-460c-b1a4-9d2429530008"
      },
      "execution_count": 20,
      "outputs": [
        {
          "output_type": "stream",
          "name": "stdout",
          "text": [
            "tfopwg_disp\n",
            "PC     4592\n",
            "FP     1171\n",
            "CP      683\n",
            "KP      580\n",
            "APC     451\n",
            "FA       92\n",
            "Name: count, dtype: int64\n"
          ]
        },
        {
          "output_type": "display_data",
          "data": {
            "text/plain": [
              "<Figure size 1000x600 with 1 Axes>"
            ],
            "image/png": "[encoded data removed]"
          },
          "metadata": {}
        }
      ]
    },
    {
      "cell_type": "code",
      "source": [
        "print(df['tfopwg_disp'].value_counts())"
      ],
      "metadata": {
        "colab": {
          "base_uri": "https://localhost:8080/"
        },
        "id": "zWHTsitJcSy_",
        "outputId": "7433a5c3-1d1d-4daa-dce1-d8d78b796282"
      },
      "execution_count": 21,
      "outputs": [
        {
          "output_type": "stream",
          "name": "stdout",
          "text": [
            "tfopwg_disp\n",
            "PC     4592\n",
            "FP     1171\n",
            "CP      683\n",
            "KP      580\n",
            "APC     451\n",
            "FA       92\n",
            "Name: count, dtype: int64\n"
          ]
        }
      ]
    },
    {
      "cell_type": "code",
      "source": [
        "# خريطة التحويل\n",
        "mapping = {\n",
        "    'CP': 'Confirmed',\n",
        "    'KP': 'Confirmed',\n",
        "    'PC': 'Candidate',\n",
        "    'APC': 'Candidate',\n",
        "    'FP': 'False Positive',\n",
        "    'FA': 'False Positive'\n",
        "}\n",
        "\n",
        "# تطبيق التحويل\n",
        "df['tfopwg_disp'] = df['tfopwg_disp'].map(mapping)\n"
      ],
      "metadata": {
        "id": "-s_dYzGHRFs9"
      },
      "execution_count": 22,
      "outputs": []
    },
    {
      "cell_type": "code",
      "source": [
        "df_clean = df[~df['tfopwg_disp'].isin([\"Candidate\"])]"
      ],
      "metadata": {
        "id": "A8tpvqPKeBkZ"
      },
      "execution_count": 23,
      "outputs": []
    },
    {
      "cell_type": "code",
      "source": [
        "import matplotlib.pyplot as plt\n",
        "import seaborn as sns\n",
        "\n",
        "# عدد كل قيمة فريدة\n",
        "counts = df_clean['tfopwg_disp'].value_counts()\n",
        "print(counts)\n",
        "\n",
        "# رسم بار للقيم الفريدة\n",
        "plt.figure(figsize=(10, 6))\n",
        "sns.barplot(x=counts.index, y=counts.values)\n",
        "plt.title('Distribution of tfopwg_disp (unique values)')\n",
        "plt.xlabel('tfopwg_disp')\n",
        "plt.ylabel('Count')\n",
        "plt.xticks(rotation=45)\n",
        "plt.show()\n"
      ],
      "metadata": {
        "colab": {
          "base_uri": "https://localhost:8080/",
          "height": 695
        },
        "id": "1C07HRxZz75J",
        "outputId": "f102c096-e832-41d6-dacf-cdeac437fc78"
      },
      "execution_count": 24,
      "outputs": [
        {
          "output_type": "stream",
          "name": "stdout",
          "text": [
            "tfopwg_disp\n",
            "Confirmed         1263\n",
            "False Positive    1263\n",
            "Name: count, dtype: int64\n"
          ]
        },
        {
          "output_type": "display_data",
          "data": {
            "text/plain": [
              "<Figure size 1000x600 with 1 Axes>"
            ],
            "image/png": "[encoded data removed]"
          },
          "metadata": {}
        }
      ]
    },
    {
      "cell_type": "code",
      "source": [
        "print(df_clean.columns.tolist())"
      ],
      "metadata": {
        "colab": {
          "base_uri": "https://localhost:8080/"
        },
        "id": "U_IRhUlXMWjG",
        "outputId": "45f104b0-6fbe-4ae8-8ef7-f4fe70610b02"
      },
      "execution_count": 25,
      "outputs": [
        {
          "output_type": "stream",
          "name": "stdout",
          "text": [
            "['pl_pnum', 'tfopwg_disp', 'st_tmag', 'st_tmagerr1', 'st_tmagerr2', 'ra', 'dec', 'st_pmra', 'st_pmraerr1', 'st_pmraerr2', 'st_pmdec', 'st_pmdecerr1', 'st_pmdecerr2', 'pl_tranmid', 'pl_tranmiderr1', 'pl_tranmiderr2', 'pl_orbper', 'pl_orbpererr1', 'pl_orbpererr2', 'pl_trandurh', 'pl_trandurherr1', 'pl_trandurherr2', 'pl_trandep', 'pl_trandeperr1', 'pl_trandeperr2', 'pl_rade', 'pl_insol', 'pl_eqt', 'st_dist', 'st_teff', 'st_logg', 'st_rad']\n"
          ]
        }
      ]
    },
    {
      "cell_type": "markdown",
      "source": [
        "## extract feature"
      ],
      "metadata": {
        "id": "PmD-U8bZWpk9"
      }
    },
    {
      "cell_type": "code",
      "source": [
        "'''from sklearn.feature_selection import RFE\n",
        "from sklearn.ensemble import RandomForestClassifier\n",
        "import pandas as pd\n",
        "\n",
        "# استخدمي DataFrame وليس numpy array\n",
        "X_train_df = pd.DataFrame(X_train, columns=df_clean.drop(\"tfopwg_disp\", axis=1).columns)\n",
        "\n",
        "# نموذج لتقييم الأهمية\n",
        "rf = RandomForestClassifier(n_estimators=200, random_state=42)\n",
        "\n",
        "# RFE لاختيار أهم 10 ميزات\n",
        "rfe = RFE(estimator=rf, n_features_to_select=10)\n",
        "rfe.fit(X_train_df, y_train)\n",
        "\n",
        "# الميزات المختارة\n",
        "selected_features = X_train_df.columns[rfe.support_]\n",
        "print(selected_features)\n",
        "'''"
      ],
      "metadata": {
        "colab": {
          "base_uri": "https://localhost:8080/",
          "height": 71
        },
        "id": "JEvBofCcWsQB",
        "outputId": "364ed6f5-5c29-412f-aeb2-aad41f3160fc"
      },
      "execution_count": 26,
      "outputs": [
        {
          "output_type": "execute_result",
          "data": {
            "text/plain": [
              "'from sklearn.feature_selection import RFE\\nfrom sklearn.ensemble import RandomForestClassifier\\nimport pandas as pd\\n\\n# استخدمي DataFrame وليس numpy array\\nX_train_df = pd.DataFrame(X_train, columns=df_clean.drop(\"tfopwg_disp\", axis=1).columns)\\n\\n# نموذج لتقييم الأهمية\\nrf = RandomForestClassifier(n_estimators=200, random_state=42)\\n\\n# RFE لاختيار أهم 10 ميزات\\nrfe = RFE(estimator=rf, n_features_to_select=10)\\nrfe.fit(X_train_df, y_train)\\n\\n# الميزات المختارة\\nselected_features = X_train_df.columns[rfe.support_]\\nprint(selected_features)\\n'"
            ],
            "application/vnd.google.colaboratory.intrinsic+json": {
              "type": "string"
            }
          },
          "metadata": {},
          "execution_count": 26
        }
      ]
    },
    {
      "cell_type": "code",
      "source": [
        "#selected_features"
      ],
      "metadata": {
        "id": "caJLMK-NnDjL"
      },
      "execution_count": 27,
      "outputs": []
    },
    {
      "cell_type": "markdown",
      "source": [
        "# train model"
      ],
      "metadata": {
        "id": "jYM6yd40OlIf"
      }
    },
    {
      "cell_type": "code",
      "source": [],
      "metadata": {
        "id": "wE2LvUYZ4dR_"
      },
      "execution_count": 27,
      "outputs": []
    },
    {
      "cell_type": "code",
      "source": [
        "from sklearn.ensemble import RandomForestClassifier, ExtraTreesClassifier, AdaBoostClassifier, BaggingClassifier, StackingClassifier\n",
        "from sklearn.tree import DecisionTreeClassifier\n",
        "from sklearn.linear_model import LogisticRegression\n",
        "from sklearn.model_selection import train_test_split\n",
        "from sklearn.preprocessing import RobustScaler\n",
        "from sklearn.metrics import accuracy_score, f1_score, confusion_matrix\n",
        "from sklearn.preprocessing import LabelEncoder\n",
        "from sklearn.metrics import confusion_matrix, accuracy_score, recall_score\n",
        "from lightgbm import LGBMClassifier\n",
        "from catboost import CatBoostClassifier\n",
        "from xgboost import XGBClassifier\n",
        "\n",
        "\n",
        "encoder = LabelEncoder()\n",
        "y_encoded = encoder.fit_transform(df_clean[\"tfopwg_disp\"])  # fit هنا\n",
        "\n",
        "X = df_clean.drop(\"tfopwg_disp\", axis=1)\n",
        "X_train, X_test, y_train, y_test = train_test_split(X, y_encoded, test_size=0.2, random_state=42)\n",
        "\n",
        "scaler = RobustScaler()\n",
        "X_train = scaler.fit_transform(X_train)\n",
        "X_test  = scaler.transform(X_test)\n",
        "\n",
        "# الموديلات الأساسية\n",
        "base_models = [\n",
        "    ('Random Forest', RandomForestClassifier(n_estimators=200, max_depth=None, min_samples_split=2,min_samples_leaf=1,max_features='sqrt',\n",
        "    bootstrap=True,\n",
        "    random_state=42,\n",
        "    n_jobs=-1\n",
        ")),\n",
        "    ('Extra Trees', ExtraTreesClassifier(n_estimators=100, random_state=42 ,)),\n",
        "    ('XGBoost', XGBClassifier(n_estimators=500, max_depth=6, learning_rate=0.1, random_state=42, use_label_encoder=False, eval_metric='mlogloss')),\n",
        "    ('CatBoost', CatBoostClassifier(iterations=500, depth=6, learning_rate=0.1, verbose=0, random_state=42))\n",
        "]\n",
        "\n",
        "\n",
        "\n",
        "# Stacking\n",
        "stack_model = StackingClassifier(\n",
        "    estimators=base_models,\n",
        "    final_estimator=LogisticRegression(max_iter=1000),\n",
        "    passthrough=True  # تمرير المميزات الأصلية للموديل النهائي\n",
        ")\n",
        "\n",
        "\n",
        "\n"
      ],
      "metadata": {
        "id": "UOUY32fbM4K4"
      },
      "execution_count": 28,
      "outputs": []
    },
    {
      "cell_type": "code",
      "source": [
        "for name, model in base_models:\n",
        "    model.fit(X_train, y_train)\n",
        "    y_pred = model.predict(X_test)\n",
        "\n",
        "    acc = accuracy_score(y_test, y_pred)\n",
        "    rec = recall_score(y_test, y_pred, average='macro')\n",
        "\n",
        "    labels = sorted(pd.unique(y_test))\n",
        "    cm = confusion_matrix(y_test, y_pred, labels=labels)\n",
        "\n",
        "    print(f\"\\n{name}\")\n",
        "    print(\"-\" * len(name))\n",
        "    print(f\"Accuracy: {acc:.4f}\")\n",
        "    print(f\"Recall:   {rec:.4f}\")\n",
        "    print(\"Confusion Matrix:\")\n",
        "    print(pd.DataFrame(cm, index=labels, columns=labels))\n"
      ],
      "metadata": {
        "colab": {
          "base_uri": "https://localhost:8080/"
        },
        "id": "S06i6YdoOuaS",
        "outputId": "65a02079-201c-4245-8efa-29c2a1b35dd7"
      },
      "execution_count": 29,
      "outputs": [
        {
          "output_type": "stream",
          "name": "stdout",
          "text": [
            "\n",
            "Random Forest\n",
            "-------------\n",
            "Accuracy: 0.8854\n",
            "Recall:   0.8850\n",
            "Confusion Matrix:\n",
            "     0    1\n",
            "0  236   28\n",
            "1   30  212\n",
            "\n",
            "Extra Trees\n",
            "-----------\n",
            "Accuracy: 0.8676\n",
            "Recall:   0.8671\n",
            "Confusion Matrix:\n",
            "     0    1\n",
            "0  232   32\n",
            "1   35  207\n"
          ]
        },
        {
          "output_type": "stream",
          "name": "stderr",
          "text": [
            "/usr/local/lib/python3.12/dist-packages/xgboost/training.py:183: UserWarning: [20:01:14] WARNING: /workspace/src/learner.cc:738: \n",
            "Parameters: { \"use_label_encoder\" } are not used.\n",
            "\n",
            "  bst.update(dtrain, iteration=i, fobj=obj)\n"
          ]
        },
        {
          "output_type": "stream",
          "name": "stdout",
          "text": [
            "\n",
            "XGBoost\n",
            "-------\n",
            "Accuracy: 0.8992\n",
            "Recall:   0.8982\n",
            "Confusion Matrix:\n",
            "     0    1\n",
            "0  243   21\n",
            "1   30  212\n",
            "\n",
            "CatBoost\n",
            "--------\n",
            "Accuracy: 0.9071\n",
            "Recall:   0.9060\n",
            "Confusion Matrix:\n",
            "     0    1\n",
            "0  246   18\n",
            "1   29  213\n"
          ]
        }
      ]
    },
    {
      "cell_type": "code",
      "source": [
        "stack_model.fit(X_train, y_train)"
      ],
      "metadata": {
        "id": "BtOS7MWtO1Te",
        "colab": {
          "base_uri": "https://localhost:8080/",
          "height": 613
        },
        "outputId": "7db46c47-ad01-4fe7-ac3d-72efe3006743"
      },
      "execution_count": 30,
      "outputs": [
        {
          "output_type": "stream",
          "name": "stderr",
          "text": [
            "/usr/local/lib/python3.12/dist-packages/xgboost/training.py:183: UserWarning: [20:01:24] WARNING: /workspace/src/learner.cc:738: \n",
            "Parameters: { \"use_label_encoder\" } are not used.\n",
            "\n",
            "  bst.update(dtrain, iteration=i, fobj=obj)\n",
            "/usr/local/lib/python3.12/dist-packages/xgboost/training.py:183: UserWarning: [20:01:41] WARNING: /workspace/src/learner.cc:738: \n",
            "Parameters: { \"use_label_encoder\" } are not used.\n",
            "\n",
            "  bst.update(dtrain, iteration=i, fobj=obj)\n",
            "/usr/local/lib/python3.12/dist-packages/xgboost/training.py:183: UserWarning: [20:01:43] WARNING: /workspace/src/learner.cc:738: \n",
            "Parameters: { \"use_label_encoder\" } are not used.\n",
            "\n",
            "  bst.update(dtrain, iteration=i, fobj=obj)\n",
            "/usr/local/lib/python3.12/dist-packages/xgboost/training.py:183: UserWarning: [20:01:45] WARNING: /workspace/src/learner.cc:738: \n",
            "Parameters: { \"use_label_encoder\" } are not used.\n",
            "\n",
            "  bst.update(dtrain, iteration=i, fobj=obj)\n",
            "/usr/local/lib/python3.12/dist-packages/xgboost/training.py:183: UserWarning: [20:01:46] WARNING: /workspace/src/learner.cc:738: \n",
            "Parameters: { \"use_label_encoder\" } are not used.\n",
            "\n",
            "  bst.update(dtrain, iteration=i, fobj=obj)\n",
            "/usr/local/lib/python3.12/dist-packages/xgboost/training.py:183: UserWarning: [20:01:50] WARNING: /workspace/src/learner.cc:738: \n",
            "Parameters: { \"use_label_encoder\" } are not used.\n",
            "\n",
            "  bst.update(dtrain, iteration=i, fobj=obj)\n"
          ]
        },
        {
          "output_type": "execute_result",
          "data": {
            "text/plain": [
              "StackingClassifier(estimators=[('Random Forest',\n",
              "                                RandomForestClassifier(n_estimators=200,\n",
              "                                                       n_jobs=-1,\n",
              "                                                       random_state=42)),\n",
              "                               ('Extra Trees',\n",
              "                                ExtraTreesClassifier(random_state=42)),\n",
              "                               ('XGBoost',\n",
              "                                XGBClassifier(base_score=None, booster=None,\n",
              "                                              callbacks=None,\n",
              "                                              colsample_bylevel=None,\n",
              "                                              colsample_bynode=None,\n",
              "                                              colsample_bytree=None,\n",
              "                                              device=None,\n",
              "                                              early_stopping_rounds=None,\n",
              "                                              enable_...\n",
              "                                              max_cat_threshold=None,\n",
              "                                              max_cat_to_onehot=None,\n",
              "                                              max_delta_step=None, max_depth=6,\n",
              "                                              max_leaves=None,\n",
              "                                              min_child_weight=None,\n",
              "                                              missing=nan,\n",
              "                                              monotone_constraints=None,\n",
              "                                              multi_strategy=None,\n",
              "                                              n_estimators=500, n_jobs=None,\n",
              "                                              num_parallel_tree=None, ...)),\n",
              "                               ('CatBoost',\n",
              "                                <catboost.core.CatBoostClassifier object at 0x7826c6f86180>)],\n",
              "                   final_estimator=LogisticRegression(max_iter=1000),\n",
              "                   passthrough=True)"
            ],
            "text/html": [
              "<style>#sk-container-id-1 {\n",
              "  /* Definition of color scheme common for light and dark mode */\n",
              "  --sklearn-color-text: #000;\n",
              "  --sklearn-color-text-muted: #666;\n",
              "  --sklearn-color-line: gray;\n",
              "  /* Definition of color scheme for unfitted estimators */\n",
              "  --sklearn-color-unfitted-level-0: #fff5e6;\n",
              "  --sklearn-color-unfitted-level-1: #f6e4d2;\n",
              "  --sklearn-color-unfitted-level-2: #ffe0b3;\n",
              "  --sklearn-color-unfitted-level-3: chocolate;\n",
              "  /* Definition of color scheme for fitted estimators */\n",
              "  --sklearn-color-fitted-level-0: #f0f8ff;\n",
              "  --sklearn-color-fitted-level-1: #d4ebff;\n",
              "  --sklearn-color-fitted-level-2: #b3dbfd;\n",
              "  --sklearn-color-fitted-level-3: cornflowerblue;\n",
              "\n",
              "  /* Specific color for light theme */\n",
              "  --sklearn-color-text-on-default-background: var(--sg-text-color, var(--theme-code-foreground, var(--jp-content-font-color1, black)));\n",
              "  --sklearn-color-background: var(--sg-background-color, var(--theme-background, var(--jp-layout-color0, white)));\n",
              "  --sklearn-color-border-box: var(--sg-text-color, var(--theme-code-foreground, var(--jp-content-font-color1, black)));\n",
              "  --sklearn-color-icon: #696969;\n",
              "\n",
              "  @media (prefers-color-scheme: dark) {\n",
              "    /* Redefinition of color scheme for dark theme */\n",
              "    --sklearn-color-text-on-default-background: var(--sg-text-color, var(--theme-code-foreground, var(--jp-content-font-color1, white)));\n",
              "    --sklearn-color-background: var(--sg-background-color, var(--theme-background, var(--jp-layout-color0, #111)));\n",
              "    --sklearn-color-border-box: var(--sg-text-color, var(--theme-code-foreground, var(--jp-content-font-color1, white)));\n",
              "    --sklearn-color-icon: #878787;\n",
              "  }\n",
              "}\n",
              "\n",
              "#sk-container-id-1 {\n",
              "  color: var(--sklearn-color-text);\n",
              "}\n",
              "\n",
              "#sk-container-id-1 pre {\n",
              "  padding: 0;\n",
              "}\n",
              "\n",
              "#sk-container-id-1 input.sk-hidden--visually {\n",
              "  border: 0;\n",
              "  clip: rect(1px 1px 1px 1px);\n",
              "  clip: rect(1px, 1px, 1px, 1px);\n",
              "  height: 1px;\n",
              "  margin: -1px;\n",
              "  overflow: hidden;\n",
              "  padding: 0;\n",
              "  position: absolute;\n",
              "  width: 1px;\n",
              "}\n",
              "\n",
              "#sk-container-id-1 div.sk-dashed-wrapped {\n",
              "  border: 1px dashed var(--sklearn-color-line);\n",
              "  margin: 0 0.4em 0.5em 0.4em;\n",
              "  box-sizing: border-box;\n",
              "  padding-bottom: 0.4em;\n",
              "  background-color: var(--sklearn-color-background);\n",
              "}\n",
              "\n",
              "#sk-container-id-1 div.sk-container {\n",
              "  /* jupyter's `normalize.less` sets `[hidden] { display: none; }`\n",
              "     but bootstrap.min.css set `[hidden] { display: none !important; }`\n",
              "     so we also need the `!important` here to be able to override the\n",
              "     default hidden behavior on the sphinx rendered scikit-learn.org.\n",
              "     See: https://github.com/scikit-learn/scikit-learn/issues/21755 */\n",
              "  display: inline-block !important;\n",
              "  position: relative;\n",
              "}\n",
              "\n",
              "#sk-container-id-1 div.sk-text-repr-fallback {\n",
              "  display: none;\n",
              "}\n",
              "\n",
              "div.sk-parallel-item,\n",
              "div.sk-serial,\n",
              "div.sk-item {\n",
              "  /* draw centered vertical line to link estimators */\n",
              "  background-image: linear-gradient(var(--sklearn-color-text-on-default-background), var(--sklearn-color-text-on-default-background));\n",
              "  background-size: 2px 100%;\n",
              "  background-repeat: no-repeat;\n",
              "  background-position: center center;\n",
              "}\n",
              "\n",
              "/* Parallel-specific style estimator block */\n",
              "\n",
              "#sk-container-id-1 div.sk-parallel-item::after {\n",
              "  content: \"\";\n",
              "  width: 100%;\n",
              "  border-bottom: 2px solid var(--sklearn-color-text-on-default-background);\n",
              "  flex-grow: 1;\n",
              "}\n",
              "\n",
              "#sk-container-id-1 div.sk-parallel {\n",
              "  display: flex;\n",
              "  align-items: stretch;\n",
              "  justify-content: center;\n",
              "  background-color: var(--sklearn-color-background);\n",
              "  position: relative;\n",
              "}\n",
              "\n",
              "#sk-container-id-1 div.sk-parallel-item {\n",
              "  display: flex;\n",
              "  flex-direction: column;\n",
              "}\n",
              "\n",
              "#sk-container-id-1 div.sk-parallel-item:first-child::after {\n",
              "  align-self: flex-end;\n",
              "  width: 50%;\n",
              "}\n",
              "\n",
              "#sk-container-id-1 div.sk-parallel-item:last-child::after {\n",
              "  align-self: flex-start;\n",
              "  width: 50%;\n",
              "}\n",
              "\n",
              "#sk-container-id-1 div.sk-parallel-item:only-child::after {\n",
              "  width: 0;\n",
              "}\n",
              "\n",
              "/* Serial-specific style estimator block */\n",
              "\n",
              "#sk-container-id-1 div.sk-serial {\n",
              "  display: flex;\n",
              "  flex-direction: column;\n",
              "  align-items: center;\n",
              "  background-color: var(--sklearn-color-background);\n",
              "  padding-right: 1em;\n",
              "  padding-left: 1em;\n",
              "}\n",
              "\n",
              "\n",
              "/* Toggleable style: style used for estimator/Pipeline/ColumnTransformer box that is\n",
              "clickable and can be expanded/collapsed.\n",
              "- Pipeline and ColumnTransformer use this feature and define the default style\n",
              "- Estimators will overwrite some part of the style using the `sk-estimator` class\n",
              "*/\n",
              "\n",
              "/* Pipeline and ColumnTransformer style (default) */\n",
              "\n",
              "#sk-container-id-1 div.sk-toggleable {\n",
              "  /* Default theme specific background. It is overwritten whether we have a\n",
              "  specific estimator or a Pipeline/ColumnTransformer */\n",
              "  background-color: var(--sklearn-color-background);\n",
              "}\n",
              "\n",
              "/* Toggleable label */\n",
              "#sk-container-id-1 label.sk-toggleable__label {\n",
              "  cursor: pointer;\n",
              "  display: flex;\n",
              "  width: 100%;\n",
              "  margin-bottom: 0;\n",
              "  padding: 0.5em;\n",
              "  box-sizing: border-box;\n",
              "  text-align: center;\n",
              "  align-items: start;\n",
              "  justify-content: space-between;\n",
              "  gap: 0.5em;\n",
              "}\n",
              "\n",
              "#sk-container-id-1 label.sk-toggleable__label .caption {\n",
              "  font-size: 0.6rem;\n",
              "  font-weight: lighter;\n",
              "  color: var(--sklearn-color-text-muted);\n",
              "}\n",
              "\n",
              "#sk-container-id-1 label.sk-toggleable__label-arrow:before {\n",
              "  /* Arrow on the left of the label */\n",
              "  content: \"▸\";\n",
              "  float: left;\n",
              "  margin-right: 0.25em;\n",
              "  color: var(--sklearn-color-icon);\n",
              "}\n",
              "\n",
              "#sk-container-id-1 label.sk-toggleable__label-arrow:hover:before {\n",
              "  color: var(--sklearn-color-text);\n",
              "}\n",
              "\n",
              "/* Toggleable content - dropdown */\n",
              "\n",
              "#sk-container-id-1 div.sk-toggleable__content {\n",
              "  max-height: 0;\n",
              "  max-width: 0;\n",
              "  overflow: hidden;\n",
              "  text-align: left;\n",
              "  /* unfitted */\n",
              "  background-color: var(--sklearn-color-unfitted-level-0);\n",
              "}\n",
              "\n",
              "#sk-container-id-1 div.sk-toggleable__content.fitted {\n",
              "  /* fitted */\n",
              "  background-color: var(--sklearn-color-fitted-level-0);\n",
              "}\n",
              "\n",
              "#sk-container-id-1 div.sk-toggleable__content pre {\n",
              "  margin: 0.2em;\n",
              "  border-radius: 0.25em;\n",
              "  color: var(--sklearn-color-text);\n",
              "  /* unfitted */\n",
              "  background-color: var(--sklearn-color-unfitted-level-0);\n",
              "}\n",
              "\n",
              "#sk-container-id-1 div.sk-toggleable__content.fitted pre {\n",
              "  /* unfitted */\n",
              "  background-color: var(--sklearn-color-fitted-level-0);\n",
              "}\n",
              "\n",
              "#sk-container-id-1 input.sk-toggleable__control:checked~div.sk-toggleable__content {\n",
              "  /* Expand drop-down */\n",
              "  max-height: 200px;\n",
              "  max-width: 100%;\n",
              "  overflow: auto;\n",
              "}\n",
              "\n",
              "#sk-container-id-1 input.sk-toggleable__control:checked~label.sk-toggleable__label-arrow:before {\n",
              "  content: \"▾\";\n",
              "}\n",
              "\n",
              "/* Pipeline/ColumnTransformer-specific style */\n",
              "\n",
              "#sk-container-id-1 div.sk-label input.sk-toggleable__control:checked~label.sk-toggleable__label {\n",
              "  color: var(--sklearn-color-text);\n",
              "  background-color: var(--sklearn-color-unfitted-level-2);\n",
              "}\n",
              "\n",
              "#sk-container-id-1 div.sk-label.fitted input.sk-toggleable__control:checked~label.sk-toggleable__label {\n",
              "  background-color: var(--sklearn-color-fitted-level-2);\n",
              "}\n",
              "\n",
              "/* Estimator-specific style */\n",
              "\n",
              "/* Colorize estimator box */\n",
              "#sk-container-id-1 div.sk-estimator input.sk-toggleable__control:checked~label.sk-toggleable__label {\n",
              "  /* unfitted */\n",
              "  background-color: var(--sklearn-color-unfitted-level-2);\n",
              "}\n",
              "\n",
              "#sk-container-id-1 div.sk-estimator.fitted input.sk-toggleable__control:checked~label.sk-toggleable__label {\n",
              "  /* fitted */\n",
              "  background-color: var(--sklearn-color-fitted-level-2);\n",
              "}\n",
              "\n",
              "#sk-container-id-1 div.sk-label label.sk-toggleable__label,\n",
              "#sk-container-id-1 div.sk-label label {\n",
              "  /* The background is the default theme color */\n",
              "  color: var(--sklearn-color-text-on-default-background);\n",
              "}\n",
              "\n",
              "/* On hover, darken the color of the background */\n",
              "#sk-container-id-1 div.sk-label:hover label.sk-toggleable__label {\n",
              "  color: var(--sklearn-color-text);\n",
              "  background-color: var(--sklearn-color-unfitted-level-2);\n",
              "}\n",
              "\n",
              "/* Label box, darken color on hover, fitted */\n",
              "#sk-container-id-1 div.sk-label.fitted:hover label.sk-toggleable__label.fitted {\n",
              "  color: var(--sklearn-color-text);\n",
              "  background-color: var(--sklearn-color-fitted-level-2);\n",
              "}\n",
              "\n",
              "/* Estimator label */\n",
              "\n",
              "#sk-container-id-1 div.sk-label label {\n",
              "  font-family: monospace;\n",
              "  font-weight: bold;\n",
              "  display: inline-block;\n",
              "  line-height: 1.2em;\n",
              "}\n",
              "\n",
              "#sk-container-id-1 div.sk-label-container {\n",
              "  text-align: center;\n",
              "}\n",
              "\n",
              "/* Estimator-specific */\n",
              "#sk-container-id-1 div.sk-estimator {\n",
              "  font-family: monospace;\n",
              "  border: 1px dotted var(--sklearn-color-border-box);\n",
              "  border-radius: 0.25em;\n",
              "  box-sizing: border-box;\n",
              "  margin-bottom: 0.5em;\n",
              "  /* unfitted */\n",
              "  background-color: var(--sklearn-color-unfitted-level-0);\n",
              "}\n",
              "\n",
              "#sk-container-id-1 div.sk-estimator.fitted {\n",
              "  /* fitted */\n",
              "  background-color: var(--sklearn-color-fitted-level-0);\n",
              "}\n",
              "\n",
              "/* on hover */\n",
              "#sk-container-id-1 div.sk-estimator:hover {\n",
              "  /* unfitted */\n",
              "  background-color: var(--sklearn-color-unfitted-level-2);\n",
              "}\n",
              "\n",
              "#sk-container-id-1 div.sk-estimator.fitted:hover {\n",
              "  /* fitted */\n",
              "  background-color: var(--sklearn-color-fitted-level-2);\n",
              "}\n",
              "\n",
              "/* Specification for estimator info (e.g. \"i\" and \"?\") */\n",
              "\n",
              "/* Common style for \"i\" and \"?\" */\n",
              "\n",
              ".sk-estimator-doc-link,\n",
              "a:link.sk-estimator-doc-link,\n",
              "a:visited.sk-estimator-doc-link {\n",
              "  float: right;\n",
              "  font-size: smaller;\n",
              "  line-height: 1em;\n",
              "  font-family: monospace;\n",
              "  background-color: var(--sklearn-color-background);\n",
              "  border-radius: 1em;\n",
              "  height: 1em;\n",
              "  width: 1em;\n",
              "  text-decoration: none !important;\n",
              "  margin-left: 0.5em;\n",
              "  text-align: center;\n",
              "  /* unfitted */\n",
              "  border: var(--sklearn-color-unfitted-level-1) 1pt solid;\n",
              "  color: var(--sklearn-color-unfitted-level-1);\n",
              "}\n",
              "\n",
              ".sk-estimator-doc-link.fitted,\n",
              "a:link.sk-estimator-doc-link.fitted,\n",
              "a:visited.sk-estimator-doc-link.fitted {\n",
              "  /* fitted */\n",
              "  border: var(--sklearn-color-fitted-level-1) 1pt solid;\n",
              "  color: var(--sklearn-color-fitted-level-1);\n",
              "}\n",
              "\n",
              "/* On hover */\n",
              "div.sk-estimator:hover .sk-estimator-doc-link:hover,\n",
              ".sk-estimator-doc-link:hover,\n",
              "div.sk-label-container:hover .sk-estimator-doc-link:hover,\n",
              ".sk-estimator-doc-link:hover {\n",
              "  /* unfitted */\n",
              "  background-color: var(--sklearn-color-unfitted-level-3);\n",
              "  color: var(--sklearn-color-background);\n",
              "  text-decoration: none;\n",
              "}\n",
              "\n",
              "div.sk-estimator.fitted:hover .sk-estimator-doc-link.fitted:hover,\n",
              ".sk-estimator-doc-link.fitted:hover,\n",
              "div.sk-label-container:hover .sk-estimator-doc-link.fitted:hover,\n",
              ".sk-estimator-doc-link.fitted:hover {\n",
              "  /* fitted */\n",
              "  background-color: var(--sklearn-color-fitted-level-3);\n",
              "  color: var(--sklearn-color-background);\n",
              "  text-decoration: none;\n",
              "}\n",
              "\n",
              "/* Span, style for the box shown on hovering the info icon */\n",
              ".sk-estimator-doc-link span {\n",
              "  display: none;\n",
              "  z-index: 9999;\n",
              "  position: relative;\n",
              "  font-weight: normal;\n",
              "  right: .2ex;\n",
              "  padding: .5ex;\n",
              "  margin: .5ex;\n",
              "  width: min-content;\n",
              "  min-width: 20ex;\n",
              "  max-width: 50ex;\n",
              "  color: var(--sklearn-color-text);\n",
              "  box-shadow: 2pt 2pt 4pt #999;\n",
              "  /* unfitted */\n",
              "  background: var(--sklearn-color-unfitted-level-0);\n",
              "  border: .5pt solid var(--sklearn-color-unfitted-level-3);\n",
              "}\n",
              "\n",
              ".sk-estimator-doc-link.fitted span {\n",
              "  /* fitted */\n",
              "  background: var(--sklearn-color-fitted-level-0);\n",
              "  border: var(--sklearn-color-fitted-level-3);\n",
              "}\n",
              "\n",
              ".sk-estimator-doc-link:hover span {\n",
              "  display: block;\n",
              "}\n",
              "\n",
              "/* \"?\"-specific style due to the `<a>` HTML tag */\n",
              "\n",
              "#sk-container-id-1 a.estimator_doc_link {\n",
              "  float: right;\n",
              "  font-size: 1rem;\n",
              "  line-height: 1em;\n",
              "  font-family: monospace;\n",
              "  background-color: var(--sklearn-color-background);\n",
              "  border-radius: 1rem;\n",
              "  height: 1rem;\n",
              "  width: 1rem;\n",
              "  text-decoration: none;\n",
              "  /* unfitted */\n",
              "  color: var(--sklearn-color-unfitted-level-1);\n",
              "  border: var(--sklearn-color-unfitted-level-1) 1pt solid;\n",
              "}\n",
              "\n",
              "#sk-container-id-1 a.estimator_doc_link.fitted {\n",
              "  /* fitted */\n",
              "  border: var(--sklearn-color-fitted-level-1) 1pt solid;\n",
              "  color: var(--sklearn-color-fitted-level-1);\n",
              "}\n",
              "\n",
              "/* On hover */\n",
              "#sk-container-id-1 a.estimator_doc_link:hover {\n",
              "  /* unfitted */\n",
              "  background-color: var(--sklearn-color-unfitted-level-3);\n",
              "  color: var(--sklearn-color-background);\n",
              "  text-decoration: none;\n",
              "}\n",
              "\n",
              "#sk-container-id-1 a.estimator_doc_link.fitted:hover {\n",
              "  /* fitted */\n",
              "  background-color: var(--sklearn-color-fitted-level-3);\n",
              "}\n",
              "</style><div id=\"sk-container-id-1\" class=\"sk-top-container\"><div class=\"sk-text-repr-fallback\"><pre>StackingClassifier(estimators=[(&#x27;Random Forest&#x27;,\n",
              "                                RandomForestClassifier(n_estimators=200,\n",
              "                                                       n_jobs=-1,\n",
              "                                                       random_state=42)),\n",
              "                               (&#x27;Extra Trees&#x27;,\n",
              "                                ExtraTreesClassifier(random_state=42)),\n",
              "                               (&#x27;XGBoost&#x27;,\n",
              "                                XGBClassifier(base_score=None, booster=None,\n",
              "                                              callbacks=None,\n",
              "                                              colsample_bylevel=None,\n",
              "                                              colsample_bynode=None,\n",
              "                                              colsample_bytree=None,\n",
              "                                              device=None,\n",
              "                                              early_stopping_rounds=None,\n",
              "                                              enable_...\n",
              "                                              max_cat_threshold=None,\n",
              "                                              max_cat_to_onehot=None,\n",
              "                                              max_delta_step=None, max_depth=6,\n",
              "                                              max_leaves=None,\n",
              "                                              min_child_weight=None,\n",
              "                                              missing=nan,\n",
              "                                              monotone_constraints=None,\n",
              "                                              multi_strategy=None,\n",
              "                                              n_estimators=500, n_jobs=None,\n",
              "                                              num_parallel_tree=None, ...)),\n",
              "                               (&#x27;CatBoost&#x27;,\n",
              "                                &lt;catboost.core.CatBoostClassifier object at 0x7826c6f86180&gt;)],\n",
              "                   final_estimator=LogisticRegression(max_iter=1000),\n",
              "                   passthrough=True)</pre><b>In a Jupyter environment, please rerun this cell to show the HTML representation or trust the notebook. <br />On GitHub, the HTML representation is unable to render, please try loading this page with nbviewer.org.</b></div><div class=\"sk-container\" hidden><div class=\"sk-item sk-dashed-wrapped\"><div class=\"sk-label-container\"><div class=\"sk-label fitted sk-toggleable\"><input class=\"sk-toggleable__control sk-hidden--visually\" id=\"sk-estimator-id-1\" type=\"checkbox\" ><label for=\"sk-estimator-id-1\" class=\"sk-toggleable__label fitted sk-toggleable__label-arrow\"><div><div>StackingClassifier</div></div><div><a class=\"sk-estimator-doc-link fitted\" rel=\"noreferrer\" target=\"_blank\" href=\"https://scikit-learn.org/1.6/modules/generated/sklearn.ensemble.StackingClassifier.html\">?<span>Documentation for StackingClassifier</span></a><span class=\"sk-estimator-doc-link fitted\">i<span>Fitted</span></span></div></label><div class=\"sk-toggleable__content fitted\"><pre>StackingClassifier(estimators=[(&#x27;Random Forest&#x27;,\n",
              "                                RandomForestClassifier(n_estimators=200,\n",
              "                                                       n_jobs=-1,\n",
              "                                                       random_state=42)),\n",
              "                               (&#x27;Extra Trees&#x27;,\n",
              "                                ExtraTreesClassifier(random_state=42)),\n",
              "                               (&#x27;XGBoost&#x27;,\n",
              "                                XGBClassifier(base_score=None, booster=None,\n",
              "                                              callbacks=None,\n",
              "                                              colsample_bylevel=None,\n",
              "                                              colsample_bynode=None,\n",
              "                                              colsample_bytree=None,\n",
              "                                              device=None,\n",
              "                                              early_stopping_rounds=None,\n",
              "                                              enable_...\n",
              "                                              max_cat_threshold=None,\n",
              "                                              max_cat_to_onehot=None,\n",
              "                                              max_delta_step=None, max_depth=6,\n",
              "                                              max_leaves=None,\n",
              "                                              min_child_weight=None,\n",
              "                                              missing=nan,\n",
              "                                              monotone_constraints=None,\n",
              "                                              multi_strategy=None,\n",
              "                                              n_estimators=500, n_jobs=None,\n",
              "                                              num_parallel_tree=None, ...)),\n",
              "                               (&#x27;CatBoost&#x27;,\n",
              "                                &lt;catboost.core.CatBoostClassifier object at 0x7826c6f86180&gt;)],\n",
              "                   final_estimator=LogisticRegression(max_iter=1000),\n",
              "                   passthrough=True)</pre></div> </div></div><div class=\"sk-serial\"><div class=\"sk-item\"><div class=\"sk-parallel\"><div class=\"sk-parallel-item\"><div class=\"sk-item\"><div class=\"sk-label-container\"><div class=\"sk-label fitted sk-toggleable\"><label>Random Forest</label></div></div><div class=\"sk-serial\"><div class=\"sk-item\"><div class=\"sk-estimator fitted sk-toggleable\"><input class=\"sk-toggleable__control sk-hidden--visually\" id=\"sk-estimator-id-2\" type=\"checkbox\" ><label for=\"sk-estimator-id-2\" class=\"sk-toggleable__label fitted sk-toggleable__label-arrow\"><div><div>RandomForestClassifier</div></div><div><a class=\"sk-estimator-doc-link fitted\" rel=\"noreferrer\" target=\"_blank\" href=\"https://scikit-learn.org/1.6/modules/generated/sklearn.ensemble.RandomForestClassifier.html\">?<span>Documentation for RandomForestClassifier</span></a></div></label><div class=\"sk-toggleable__content fitted\"><pre>RandomForestClassifier(n_estimators=200, n_jobs=-1, random_state=42)</pre></div> </div></div></div></div></div><div class=\"sk-parallel-item\"><div class=\"sk-item\"><div class=\"sk-label-container\"><div class=\"sk-label fitted sk-toggleable\"><label>Extra Trees</label></div></div><div class=\"sk-serial\"><div class=\"sk-item\"><div class=\"sk-estimator fitted sk-toggleable\"><input class=\"sk-toggleable__control sk-hidden--visually\" id=\"sk-estimator-id-3\" type=\"checkbox\" ><label for=\"sk-estimator-id-3\" class=\"sk-toggleable__label fitted sk-toggleable__label-arrow\"><div><div>ExtraTreesClassifier</div></div><div><a class=\"sk-estimator-doc-link fitted\" rel=\"noreferrer\" target=\"_blank\" href=\"https://scikit-learn.org/1.6/modules/generated/sklearn.ensemble.ExtraTreesClassifier.html\">?<span>Documentation for ExtraTreesClassifier</span></a></div></label><div class=\"sk-toggleable__content fitted\"><pre>ExtraTreesClassifier(random_state=42)</pre></div> </div></div></div></div></div><div class=\"sk-parallel-item\"><div class=\"sk-item\"><div class=\"sk-label-container\"><div class=\"sk-label fitted sk-toggleable\"><label>XGBoost</label></div></div><div class=\"sk-serial\"><div class=\"sk-item\"><div class=\"sk-estimator fitted sk-toggleable\"><input class=\"sk-toggleable__control sk-hidden--visually\" id=\"sk-estimator-id-4\" type=\"checkbox\" ><label for=\"sk-estimator-id-4\" class=\"sk-toggleable__label fitted sk-toggleable__label-arrow\"><div><div>XGBClassifier</div></div><div><a class=\"sk-estimator-doc-link fitted\" rel=\"noreferrer\" target=\"_blank\" href=\"https://xgboost.readthedocs.io/en/release_3.0.0/python/python_api.html#xgboost.XGBClassifier\">?<span>Documentation for XGBClassifier</span></a></div></label><div class=\"sk-toggleable__content fitted\"><pre>XGBClassifier(base_score=None, booster=None, callbacks=None,\n",
              "              colsample_bylevel=None, colsample_bynode=None,\n",
              "              colsample_bytree=None, device=None, early_stopping_rounds=None,\n",
              "              enable_categorical=False, eval_metric=&#x27;mlogloss&#x27;,\n",
              "              feature_types=None, feature_weights=None, gamma=None,\n",
              "              grow_policy=None, importance_type=None,\n",
              "              interaction_constraints=None, learning_rate=0.1, max_bin=None,\n",
              "              max_cat_threshold=None, max_cat_to_onehot=None,\n",
              "              max_delta_step=None, max_depth=6, max_leaves=None,\n",
              "              min_child_weight=None, missing=nan, monotone_constraints=None,\n",
              "              multi_strategy=None, n_estimators=500, n_jobs=None,\n",
              "              num_parallel_tree=None, ...)</pre></div> </div></div></div></div></div><div class=\"sk-parallel-item\"><div class=\"sk-item\"><div class=\"sk-label-container\"><div class=\"sk-label fitted sk-toggleable\"><label>CatBoost</label></div></div><div class=\"sk-serial\"><div class=\"sk-item\"><div class=\"sk-estimator fitted sk-toggleable\"><input class=\"sk-toggleable__control sk-hidden--visually\" id=\"sk-estimator-id-5\" type=\"checkbox\" ><label for=\"sk-estimator-id-5\" class=\"sk-toggleable__label fitted sk-toggleable__label-arrow\"><div><div>CatBoostClassifier</div></div></label><div class=\"sk-toggleable__content fitted\"><pre>&lt;catboost.core.CatBoostClassifier object at 0x7826c6f86180&gt;</pre></div> </div></div></div></div></div></div></div><div class=\"sk-item\"><div class=\"sk-parallel\"><div class=\"sk-parallel-item\"><div class=\"sk-item\"><div class=\"sk-label-container\"><div class=\"sk-label fitted sk-toggleable\"><label>final_estimator</label></div></div><div class=\"sk-serial\"><div class=\"sk-item\"><div class=\"sk-estimator fitted sk-toggleable\"><input class=\"sk-toggleable__control sk-hidden--visually\" id=\"sk-estimator-id-6\" type=\"checkbox\" ><label for=\"sk-estimator-id-6\" class=\"sk-toggleable__label fitted sk-toggleable__label-arrow\"><div><div>LogisticRegression</div></div><div><a class=\"sk-estimator-doc-link fitted\" rel=\"noreferrer\" target=\"_blank\" href=\"https://scikit-learn.org/1.6/modules/generated/sklearn.linear_model.LogisticRegression.html\">?<span>Documentation for LogisticRegression</span></a></div></label><div class=\"sk-toggleable__content fitted\"><pre>LogisticRegression(max_iter=1000)</pre></div> </div></div></div></div></div></div></div></div></div></div></div>"
            ]
          },
          "metadata": {},
          "execution_count": 30
        }
      ]
    },
    {
      "cell_type": "code",
      "source": [
        "y_pred = stack_model.predict(X_test)"
      ],
      "metadata": {
        "id": "5Hzy3WoZO56m"
      },
      "execution_count": 31,
      "outputs": []
    },
    {
      "cell_type": "code",
      "source": [
        "# تحويل الأرقام للنصوص الأصلية\n",
        "y_test_labels = encoder.inverse_transform(y_test)\n",
        "y_pred_labels = encoder.inverse_transform(y_pred)\n",
        "\n",
        "acc = accuracy_score(y_test_labels, y_pred_labels)\n",
        "rec = recall_score(y_test_labels, y_pred_labels, average='macro')\n",
        "cm = confusion_matrix(y_test_labels, y_pred_labels, labels=encoder.classes_)\n"
      ],
      "metadata": {
        "id": "oSYvh2lWO-s2"
      },
      "execution_count": 32,
      "outputs": []
    },
    {
      "cell_type": "code",
      "source": [
        "acc = accuracy_score(y_test, y_pred)\n",
        "\n",
        "rec = recall_score(y_test, y_pred, average='macro')\n",
        "cm = confusion_matrix(y_test, y_pred)\n",
        "\n",
        "print(f\"Stacking Accuracy: {acc:.3f}, Recall: {rec:.3f}\")\n",
        "print(pd.DataFrame(cm))\n"
      ],
      "metadata": {
        "id": "s7iyfURhPDQW",
        "colab": {
          "base_uri": "https://localhost:8080/"
        },
        "outputId": "4b93389d-e130-4b45-d9e8-cbb2e60364fa"
      },
      "execution_count": 33,
      "outputs": [
        {
          "output_type": "stream",
          "name": "stdout",
          "text": [
            "Stacking Accuracy: 0.897, Recall: 0.896\n",
            "     0    1\n",
            "0  242   22\n",
            "1   30  212\n"
          ]
        }
      ]
    },
    {
      "cell_type": "code",
      "source": [
        "import joblib\n",
        "\n",
        "# Save the trained model\n",
        "joblib.dump(stack_model, \"TESS_stacked_model.pkl\")\n",
        "\n",
        "# Optionally, save your scaler and encoder too\n",
        "joblib.dump(scaler, \"TESS_scaler.pkl\")\n",
        "joblib.dump(encoder, \"TESS_encoder.pkl\")"
      ],
      "metadata": {
        "colab": {
          "base_uri": "https://localhost:8080/"
        },
        "id": "3k_sRMIp44qD",
        "outputId": "48603036-718a-4cad-ad56-2c66763bbdd1"
      },
      "execution_count": 34,
      "outputs": [
        {
          "output_type": "execute_result",
          "data": {
            "text/plain": [
              "['TESS_encoder.pkl']"
            ]
          },
          "metadata": {},
          "execution_count": 34
        }
      ]
    },
    {
      "cell_type": "code",
      "source": [
        "from google.colab import drive\n",
        "drive.mount('/content/drive')\n",
        "\n",
        "# Save model to your Google Drive\n",
        "joblib.dump(stack_model, \"/content/drive/MyDrive/stacked_modelTess.pkl\")\n",
        "joblib.dump(scaler, \"/content/drive/MyDrive/scalerTess.pkl\")\n",
        "joblib.dump(encoder, \"/content/drive/MyDrive/encoderTess.pkl\")"
      ],
      "metadata": {
        "colab": {
          "base_uri": "https://localhost:8080/"
        },
        "id": "dGZ5A39i8mG_",
        "outputId": "eb9bd46a-9178-4542-c8c5-a4273d462334"
      },
      "execution_count": 35,
      "outputs": [
        {
          "output_type": "stream",
          "name": "stdout",
          "text": [
            "Mounted at /content/drive\n"
          ]
        },
        {
          "output_type": "execute_result",
          "data": {
            "text/plain": [
              "['/content/drive/MyDrive/encoderTess.pkl']"
            ]
          },
          "metadata": {},
          "execution_count": 35
        }
      ]
    },
    {
      "cell_type": "code",
      "source": [],
      "metadata": {
        "id": "-RQAkcEi8niW"
      },
      "execution_count": 35,
      "outputs": []
    }
  ]
}